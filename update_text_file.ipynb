{
 "cells": [
  {
   "cell_type": "markdown",
   "metadata": {},
   "source": [
    "## Notebook walking through updating the text file - this could be automated, but keeping it as a notebook allows for an interactive process to QA/QC the descriptions and make sure they were scraped correctly. "
   ]
  },
  {
   "cell_type": "code",
   "execution_count": null,
   "metadata": {
    "ExecuteTime": {
     "end_time": "2022-08-06T20:55:20.440647Z",
     "start_time": "2022-08-06T20:55:19.231513Z"
    },
    "executionInfo": {
     "elapsed": 1820,
     "status": "ok",
     "timestamp": 1658596045710,
     "user": {
      "displayName": "Eli Orland",
      "userId": "06741993258121341549"
     },
     "user_tz": 240
    },
    "id": "UB723r4RpSzj"
   },
   "outputs": [],
   "source": [
    "import requests\n",
    "from bs4 import BeautifulSoup\n",
    "import numpy as np\n",
    "import pandas as pd"
   ]
  },
  {
   "cell_type": "code",
   "execution_count": null,
   "metadata": {
    "ExecuteTime": {
     "end_time": "2022-08-06T20:59:29.213599Z",
     "start_time": "2022-08-06T20:59:29.179430Z"
    },
    "colab": {
     "base_uri": "https://localhost:8080/",
     "height": 225
    },
    "executionInfo": {
     "elapsed": 17191,
     "status": "ok",
     "timestamp": 1658596062894,
     "user": {
      "displayName": "Eli Orland",
      "userId": "06741993258121341549"
     },
     "user_tz": 240
    },
    "id": "aFKoLY3cpfoY",
    "outputId": "d5a897d0-080f-4eec-ca64-f3a959cdf97c"
   },
   "outputs": [],
   "source": [
    "data = pd.read_csv('ref_files/product_info.csv')\n",
    "data.head()"
   ]
  },
  {
   "cell_type": "code",
   "execution_count": null,
   "metadata": {
    "ExecuteTime": {
     "end_time": "2022-08-06T20:59:31.559739Z",
     "start_time": "2022-08-06T20:59:31.554507Z"
    },
    "executionInfo": {
     "elapsed": 217,
     "status": "ok",
     "timestamp": 1658596080068,
     "user": {
      "displayName": "Eli Orland",
      "userId": "06741993258121341549"
     },
     "user_tz": 240
    },
    "id": "vhnmNaAYpny2"
   },
   "outputs": [],
   "source": [
    "# different locations to scrape product data...\n",
    "\n",
    "other_url = 'https://www.taylorstitch.com/collections/2022-summer-sale-archive-bring-back?sorted=best-selling-sales-count'\n",
    "shirts_url = 'https://www.taylorstitch.com/collections/mens-shirts'\n",
    "bottoms_url = 'https://www.taylorstitch.com/collections/mens-bottoms'\n",
    "knits_url = 'https://www.taylorstitch.com/collections/mens-knits'\n",
    "outerwear_url = 'https://www.taylorstitch.com/collections/mens-outerwear'\n",
    "last_call_url = 'https://www.taylorstitch.com/collections/mens-last-call'\n",
    "base_url = 'https://www.taylorstitch.com'\n",
    "\n",
    "url_list = [shirts_url,bottoms_url,knits_url,outerwear_url,last_call_url]"
   ]
  },
  {
   "cell_type": "code",
   "execution_count": null,
   "metadata": {
    "ExecuteTime": {
     "end_time": "2022-08-06T21:08:13.788476Z",
     "start_time": "2022-08-06T20:59:33.058405Z"
    },
    "colab": {
     "base_uri": "https://localhost:8080/"
    },
    "executionInfo": {
     "elapsed": 102284,
     "status": "ok",
     "timestamp": 1658596184504,
     "user": {
      "displayName": "Eli Orland",
      "userId": "06741993258121341549"
     },
     "user_tz": 240
    },
    "id": "wWMiqUbUp6cB",
    "outputId": "82ff9ccc-0751-4cd6-b419-00443ae3ad37"
   },
   "outputs": [],
   "source": [
    "product_urls = [] # list of all product pages to get later\n",
    "\n",
    "for url in url_list:\n",
    "    site = requests.get(url)\n",
    "\n",
    "    soup = BeautifulSoup(site.text, 'html.parser')\n",
    "\n",
    "    products = soup.find_all('ul',{'class':'product matrix'})\n",
    "    products = products[0].find_all('a',href=True) # a tags hold products here\n",
    "\n",
    "    for product in products:\n",
    "        product_urls.append(base_url+product['href'])\n",
    "        \n",
    "# look at each product, pull relevent info.\n",
    "# store all info in lists, which will be converted to pandas df later\n",
    "product_title = []\n",
    "product_description = []\n",
    "product_material = []\n",
    "\n",
    "\n",
    "for product in product_urls:\n",
    "    product_page = requests.get(product)\n",
    "    product_soup = BeautifulSoup(product_page.text, 'html.parser')\n",
    "    \n",
    "    title_info = product_soup.find('h1')['data-title']\n",
    "    if data['Name'].str.contains(title_info).any():\n",
    "      continue\n",
    "    else: print('adding',title_info)\n",
    "\n",
    "    description_info = product_soup.find_all('div',\n",
    "                                             {'id':'collapsible-description'})\n",
    "    material_info = product_soup.find_all('div',\n",
    "                                             {'id':'collapsible-material'})\n",
    "\n",
    "    try: \n",
    "        description = description_info[0].find('p').text\n",
    "        material = material_info[0].find('p').text\n",
    "    \n",
    "    except:\n",
    "        print('could not add info for',title_info) \n",
    "        continue\n",
    "        \n",
    "    product_title.append(title_info)\n",
    "    product_description.append(description)\n",
    "    product_material.append(material)\n",
    "\n",
    "    \n",
    "all_info = pd.DataFrame(list(zip(product_title, \n",
    "                                 product_description,\n",
    "                                 product_material)),\n",
    "               columns =['Name', 'Description', 'Material'])"
   ]
  },
  {
   "cell_type": "code",
   "execution_count": null,
   "metadata": {
    "ExecuteTime": {
     "end_time": "2022-08-06T21:08:13.793969Z",
     "start_time": "2022-08-06T21:08:13.793920Z"
    }
   },
   "outputs": [],
   "source": [
    "all_info = all_info.drop_duplicates()"
   ]
  },
  {
   "cell_type": "code",
   "execution_count": null,
   "metadata": {
    "ExecuteTime": {
     "end_time": "2022-08-06T18:24:30.996745Z",
     "start_time": "2022-08-06T18:24:30.988669Z"
    },
    "colab": {
     "base_uri": "https://localhost:8080/"
    },
    "executionInfo": {
     "elapsed": 167,
     "status": "ok",
     "timestamp": 1658596191229,
     "user": {
      "displayName": "Eli Orland",
      "userId": "06741993258121341549"
     },
     "user_tz": 240
    },
    "id": "-eHuNJLQwP6_",
    "outputId": "646adc17-7ad5-4745-fa20-4e8491a18486"
   },
   "outputs": [],
   "source": [
    "# print each one out to inspect the description \n",
    "for item in all_info['Description']:\n",
    "  print(item,'\\n')"
   ]
  },
  {
   "cell_type": "code",
   "execution_count": null,
   "metadata": {
    "ExecuteTime": {
     "end_time": "2022-08-06T18:24:38.338036Z",
     "start_time": "2022-08-06T18:24:38.331362Z"
    },
    "executionInfo": {
     "elapsed": 194,
     "status": "ok",
     "timestamp": 1658596215821,
     "user": {
      "displayName": "Eli Orland",
      "userId": "06741993258121341549"
     },
     "user_tz": 240
    },
    "id": "py4jkNQoqk9V"
   },
   "outputs": [],
   "source": [
    "# add the new descriptions to the existing file\n",
    "data = pd.concat([data,all_info])"
   ]
  },
  {
   "cell_type": "code",
   "execution_count": null,
   "metadata": {
    "ExecuteTime": {
     "end_time": "2022-08-06T18:24:38.983680Z",
     "start_time": "2022-08-06T18:24:38.976631Z"
    },
    "colab": {
     "base_uri": "https://localhost:8080/"
    },
    "executionInfo": {
     "elapsed": 5,
     "status": "ok",
     "timestamp": 1658596215985,
     "user": {
      "displayName": "Eli Orland",
      "userId": "06741993258121341549"
     },
     "user_tz": 240
    },
    "id": "iT676jqSrDIk",
    "outputId": "fe69e5ef-4dfa-4fba-c58b-9bb015bbf88b"
   },
   "outputs": [],
   "source": [
    "# look at new size\n",
    "data.shape"
   ]
  },
  {
   "cell_type": "code",
   "execution_count": null,
   "metadata": {
    "ExecuteTime": {
     "end_time": "2022-08-06T18:24:45.611073Z",
     "start_time": "2022-08-06T18:24:45.554603Z"
    },
    "executionInfo": {
     "elapsed": 4,
     "status": "ok",
     "timestamp": 1658596216797,
     "user": {
      "displayName": "Eli Orland",
      "userId": "06741993258121341549"
     },
     "user_tz": 240
    },
    "id": "74uHVWIgdJDc"
   },
   "outputs": [],
   "source": [
    "# and finally save. \n",
    "data.to_csv('product_info.csv',index=False,header=True)"
   ]
  }
 ],
 "metadata": {
  "colab": {
   "authorship_tag": "ABX9TyMzv5PUvBftAs1BXv5jJ8Wq",
   "collapsed_sections": [],
   "name": "update_text_file.ipynb",
   "provenance": []
  },
  "kernelspec": {
   "display_name": "Python 3 (ipykernel)",
   "language": "python",
   "name": "python3"
  },
  "language_info": {
   "codemirror_mode": {
    "name": "ipython",
    "version": 3
   },
   "file_extension": ".py",
   "mimetype": "text/x-python",
   "name": "python",
   "nbconvert_exporter": "python",
   "pygments_lexer": "ipython3",
   "version": "3.9.12"
  }
 },
 "nbformat": 4,
 "nbformat_minor": 1
}
