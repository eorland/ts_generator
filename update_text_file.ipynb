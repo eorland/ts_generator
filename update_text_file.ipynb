{
 "cells": [
  {
   "cell_type": "markdown",
   "metadata": {},
   "source": [
    "## Notebook walking through updating the text file - this could be automated, but keeping it as a notebook allows for an interactive process to QA/QC the descriptions and make sure they were scraped correctly. "
   ]
  },
  {
   "cell_type": "code",
   "execution_count": 1,
   "metadata": {
    "ExecuteTime": {
     "end_time": "2022-09-02T22:35:27.801600Z",
     "start_time": "2022-09-02T22:35:25.470121Z"
    },
    "executionInfo": {
     "elapsed": 1820,
     "status": "ok",
     "timestamp": 1658596045710,
     "user": {
      "displayName": "Eli Orland",
      "userId": "06741993258121341549"
     },
     "user_tz": 240
    },
    "id": "UB723r4RpSzj"
   },
   "outputs": [],
   "source": [
    "import requests\n",
    "from bs4 import BeautifulSoup\n",
    "import numpy as np\n",
    "import pandas as pd"
   ]
  },
  {
   "cell_type": "code",
   "execution_count": 2,
   "metadata": {
    "ExecuteTime": {
     "end_time": "2022-09-02T22:35:27.860072Z",
     "start_time": "2022-09-02T22:35:27.804539Z"
    },
    "colab": {
     "base_uri": "https://localhost:8080/",
     "height": 225
    },
    "executionInfo": {
     "elapsed": 17191,
     "status": "ok",
     "timestamp": 1658596062894,
     "user": {
      "displayName": "Eli Orland",
      "userId": "06741993258121341549"
     },
     "user_tz": 240
    },
    "id": "aFKoLY3cpfoY",
    "outputId": "d5a897d0-080f-4eec-ca64-f3a959cdf97c"
   },
   "outputs": [
    {
     "data": {
      "text/html": [
       "<div>\n",
       "<style scoped>\n",
       "    .dataframe tbody tr th:only-of-type {\n",
       "        vertical-align: middle;\n",
       "    }\n",
       "\n",
       "    .dataframe tbody tr th {\n",
       "        vertical-align: top;\n",
       "    }\n",
       "\n",
       "    .dataframe thead th {\n",
       "        text-align: right;\n",
       "    }\n",
       "</style>\n",
       "<table border=\"1\" class=\"dataframe\">\n",
       "  <thead>\n",
       "    <tr style=\"text-align: right;\">\n",
       "      <th></th>\n",
       "      <th>Name</th>\n",
       "      <th>Description</th>\n",
       "      <th>Material</th>\n",
       "    </tr>\n",
       "  </thead>\n",
       "  <tbody>\n",
       "    <tr>\n",
       "      <th>0</th>\n",
       "      <td>The Waylons in Chestnut</td>\n",
       "      <td>Built by our buddies at VALLON, The Waylons is...</td>\n",
       "      <td>The Waylons’ frame is made with lightweight, d...</td>\n",
       "    </tr>\n",
       "    <tr>\n",
       "      <th>1</th>\n",
       "      <td>The Sashiko Denim Repair Kit</td>\n",
       "      <td>Sure, you could hand off your well-worn denim ...</td>\n",
       "      <td>The Sashiko Denim Repair Kit includes an assor...</td>\n",
       "    </tr>\n",
       "    <tr>\n",
       "      <th>2</th>\n",
       "      <td>The Camp Candle in Shoreline</td>\n",
       "      <td>The Camp Candle was poured by hand in small ba...</td>\n",
       "      <td>Made with natural, renewable soy wax. Soy wax ...</td>\n",
       "    </tr>\n",
       "    <tr>\n",
       "      <th>3</th>\n",
       "      <td>The Cotton Hemp Tee in Charcoal Open Road</td>\n",
       "      <td>This exclusive edition of The Cotton Hemp Tee ...</td>\n",
       "      <td>Organic cotton offers all the benefits of the ...</td>\n",
       "    </tr>\n",
       "    <tr>\n",
       "      <th>4</th>\n",
       "      <td>The Cotton Hemp Tee in Navy Give to Get</td>\n",
       "      <td>Regenerative agriculture is all about reciproc...</td>\n",
       "      <td>We love organic cotton because it offers all o...</td>\n",
       "    </tr>\n",
       "  </tbody>\n",
       "</table>\n",
       "</div>"
      ],
      "text/plain": [
       "                                        Name  \\\n",
       "0                    The Waylons in Chestnut   \n",
       "1               The Sashiko Denim Repair Kit   \n",
       "2               The Camp Candle in Shoreline   \n",
       "3  The Cotton Hemp Tee in Charcoal Open Road   \n",
       "4    The Cotton Hemp Tee in Navy Give to Get   \n",
       "\n",
       "                                         Description  \\\n",
       "0  Built by our buddies at VALLON, The Waylons is...   \n",
       "1  Sure, you could hand off your well-worn denim ...   \n",
       "2  The Camp Candle was poured by hand in small ba...   \n",
       "3  This exclusive edition of The Cotton Hemp Tee ...   \n",
       "4  Regenerative agriculture is all about reciproc...   \n",
       "\n",
       "                                            Material  \n",
       "0  The Waylons’ frame is made with lightweight, d...  \n",
       "1  The Sashiko Denim Repair Kit includes an assor...  \n",
       "2  Made with natural, renewable soy wax. Soy wax ...  \n",
       "3  Organic cotton offers all the benefits of the ...  \n",
       "4  We love organic cotton because it offers all o...  "
      ]
     },
     "execution_count": 2,
     "metadata": {},
     "output_type": "execute_result"
    }
   ],
   "source": [
    "data = pd.read_csv('ref_files/product_info.csv')\n",
    "data.head()"
   ]
  },
  {
   "cell_type": "code",
   "execution_count": 3,
   "metadata": {
    "ExecuteTime": {
     "end_time": "2022-09-02T22:35:27.888097Z",
     "start_time": "2022-09-02T22:35:27.870445Z"
    }
   },
   "outputs": [
    {
     "data": {
      "text/plain": [
       "(1209, 3)"
      ]
     },
     "execution_count": 3,
     "metadata": {},
     "output_type": "execute_result"
    }
   ],
   "source": [
    "data.shape"
   ]
  },
  {
   "cell_type": "code",
   "execution_count": 12,
   "metadata": {
    "ExecuteTime": {
     "end_time": "2022-09-02T22:38:41.511298Z",
     "start_time": "2022-09-02T22:38:41.503832Z"
    },
    "executionInfo": {
     "elapsed": 217,
     "status": "ok",
     "timestamp": 1658596080068,
     "user": {
      "displayName": "Eli Orland",
      "userId": "06741993258121341549"
     },
     "user_tz": 240
    },
    "id": "vhnmNaAYpny2"
   },
   "outputs": [],
   "source": [
    "# different locations to scrape product data...\n",
    "\n",
    "#other_url = 'https://www.taylorstitch.com/collections/2022-summer-sale-archive-bring-back?sorted=best-selling-sales-count'\n",
    "#shirts_url = 'https://www.taylorstitch.com/collections/mens-shirts'\n",
    "#bottoms_url = 'https://www.taylorstitch.com/collections/mens-bottoms'\n",
    "#knits_url = 'https://www.taylorstitch.com/collections/mens-knits'\n",
    "#outerwear_url = 'https://www.taylorstitch.com/collections/mens-outerwear'\n",
    "#last_call_url = 'https://www.taylorstitch.com/collections/mens-last-call'\n",
    "\n",
    "base_url = 'https://www.taylorstitch.com'\n",
    "new_arrivals = 'https://www.taylorstitch.com/collections/mens-new-arrivals'\n",
    "url_list = [new_arrivals]"
   ]
  },
  {
   "cell_type": "code",
   "execution_count": null,
   "metadata": {
    "ExecuteTime": {
     "end_time": "2022-09-02T22:44:47.248188Z",
     "start_time": "2022-09-02T22:40:53.009514Z"
    },
    "colab": {
     "base_uri": "https://localhost:8080/"
    },
    "executionInfo": {
     "elapsed": 102284,
     "status": "ok",
     "timestamp": 1658596184504,
     "user": {
      "displayName": "Eli Orland",
      "userId": "06741993258121341549"
     },
     "user_tz": 240
    },
    "id": "wWMiqUbUp6cB",
    "outputId": "82ff9ccc-0751-4cd6-b419-00443ae3ad37"
   },
   "outputs": [],
   "source": [
    "product_urls = [] # list of all product pages to get later\n",
    "\n",
    "for url in url_list:\n",
    "    site = requests.get(url)\n",
    "\n",
    "    soup = BeautifulSoup(site.text, 'html.parser')\n",
    "    #print(soup)\n",
    "    products = soup.find_all('ul',{'class':'product matrix'})\n",
    "    products = products[0].find_all('a',href=True) # a tags hold products here\n",
    "\n",
    "    for product in products:\n",
    "        product_urls.append(base_url+product['href'])\n",
    "        \n",
    "# look at each product, pull relevent info.\n",
    "# store all info in lists, which will be converted to pandas df later\n",
    "product_title = []\n",
    "product_description = []\n",
    "product_material = []\n",
    "\n",
    "\n",
    "for product in product_urls:\n",
    "    product_page = requests.get(product)\n",
    "    product_soup = BeautifulSoup(product_page.text, 'html.parser')\n",
    "    \n",
    "    title_info = product_soup.find('h1')['data-title']\n",
    "    if data['Name'].str.contains(title_info).any():\n",
    "      continue\n",
    "    else: print('adding',title_info)\n",
    "\n",
    "    description_info = product_soup.find_all('div',\n",
    "                                             {'id':'collapsible-description'})\n",
    "    material_info = product_soup.find_all('div',\n",
    "                                             {'id':'collapsible-material'})\n",
    "\n",
    "    try: \n",
    "        description = description_info[0].find('p').text\n",
    "        material = material_info[0].find('p').text\n",
    "    \n",
    "    except:\n",
    "        print('could not add info for',title_info) \n",
    "        continue\n",
    "        \n",
    "    product_title.append(title_info)\n",
    "    product_description.append(description)\n",
    "    product_material.append(material)\n"
   ]
  },
  {
   "cell_type": "code",
   "execution_count": 15,
   "metadata": {
    "ExecuteTime": {
     "end_time": "2022-09-03T00:41:54.342352Z",
     "start_time": "2022-09-03T00:41:54.330062Z"
    }
   },
   "outputs": [],
   "source": [
    "all_info = pd.DataFrame(list(zip(product_title, \n",
    "                                 product_description,\n",
    "                                 product_material)),\n",
    "               columns =['Name', 'Description', 'Material'])"
   ]
  },
  {
   "cell_type": "code",
   "execution_count": 16,
   "metadata": {
    "ExecuteTime": {
     "end_time": "2022-09-03T00:41:54.609621Z",
     "start_time": "2022-09-03T00:41:54.588094Z"
    }
   },
   "outputs": [],
   "source": [
    "all_info = all_info.drop_duplicates()"
   ]
  },
  {
   "cell_type": "code",
   "execution_count": 17,
   "metadata": {
    "ExecuteTime": {
     "end_time": "2022-09-03T00:41:55.396207Z",
     "start_time": "2022-09-03T00:41:55.383501Z"
    }
   },
   "outputs": [
    {
     "data": {
      "text/plain": [
       "(44, 3)"
      ]
     },
     "execution_count": 17,
     "metadata": {},
     "output_type": "execute_result"
    }
   ],
   "source": [
    "all_info.shape"
   ]
  },
  {
   "cell_type": "code",
   "execution_count": 18,
   "metadata": {
    "ExecuteTime": {
     "end_time": "2022-09-03T00:42:03.473532Z",
     "start_time": "2022-09-03T00:42:03.449441Z"
    },
    "colab": {
     "base_uri": "https://localhost:8080/"
    },
    "executionInfo": {
     "elapsed": 167,
     "status": "ok",
     "timestamp": 1658596191229,
     "user": {
      "displayName": "Eli Orland",
      "userId": "06741993258121341549"
     },
     "user_tz": 240
    },
    "id": "-eHuNJLQwP6_",
    "outputId": "646adc17-7ad5-4745-fa20-4e8491a18486"
   },
   "outputs": [
    {
     "name": "stdout",
     "output_type": "stream",
     "text": [
      "The Crawford Sweater in Charcoal is a true menswear classic that’s just as comfy on a morning hike as it is curled up with a book by the fireplace. Seed stitch construction and dark horn buttons keep the vibes vintage while the versatile silhouette means The Crawford can lend some sophistication to your most casual outfit. And with 100% BCI cotton, this cardigan is as Responsible as it is refined. \n",
      "\n",
      "The Crawford Sweater in Rust is a true menswear classic that’s just as comfy on a morning hike as it is curled up with a book by the fireplace. Seed stitch construction and dark horn buttons keep the vibes vintage while the versatile silhouette means The Crawford can lend some sophistication to your most casual outfit. And with 100% BCI cotton, this cardigan is as Responsible as it is refined. \n",
      "\n",
      "At a glance, our signature shirt may seem like any other Oxford (albeit a handsome one), but it’s when you get up close that The Jack really shines. That’s because we’ve poured over a decade of passion and expertise into every detail of its design. From the Responsible organic cotton makeup to the expertly tailored fit, to its rugged, double-needle felled construction, The Jack is a noticeable step up from your basic button-down and this head-turning new Terrace Plaid iteration is no exception. Straightforward design, thoughtful details, and Long Haul construction—that's The Jack. \n",
      "\n",
      "At a glance, our signature shirt may seem like any other Oxford (albeit a handsome one), but it’s when you get up close that The Jack really shines. That’s because we’ve poured over a decade of passion and expertise into every detail of its design. From the Responsible organic cotton makeup to the expertly tailored fit, to its rugged, double-needle felled construction, The Jack is a noticeable step up from your basic button-down and this head-turning new Academy Plaid iteration is no exception. Straightforward design, thoughtful details, and Long Haul construction—that's The Jack. \n",
      "\n",
      "A creative experiment turned TS fan favorite, The All Day Pant is engineered to offer the rugged comfort and utility of jeans in a versatile package that won’t stick out at the office. Cut, sewn, and riveted to the same specs as our hard-wearing denim and rendered in supple organic cotton corduroy, The All Day Pant has quickly become an MVP of our wardrobes, knocking it out of the park on just about every occasion imaginable.  \n",
      "\n",
      "A creative experiment turned TS fan favorite, The All Day Pant is engineered to offer the rugged comfort and utility of jeans in a versatile package that won’t stick out at the office. Cut, sewn, and riveted to the same specs as our hard-wearing denim and rendered in supple organic cotton corduroy, The All Day Pant has quickly become an MVP of our wardrobes, knocking it out of the park on just about every occasion imaginable.  \n",
      "\n",
      "A creative experiment turned TS fan favorite, The All Day Pant is engineered to offer the rugged comfort and utility of jeans in a versatile package that won’t stick out at the office. Cut, sewn, and riveted to the same specs as our hard-wearing denim and rendered in supple organic cotton corduroy, The All Day Pant has quickly become an MVP of our wardrobes, knocking it out of the park on just about every occasion imaginable.  \n",
      "\n",
      "A creative experiment turned TS fan favorite, The All Day Pant is engineered to offer the rugged comfort and utility of jeans in a versatile package that won’t stick out at the office. Cut, sewn, and riveted to the same specs as our hard-wearing denim and rendered in supple organic cotton corduroy, The All Day Pant has quickly become an MVP of our wardrobes, knocking it out of the park on just about every occasion imaginable.  \n",
      "\n",
      "A creative experiment turned TS fan favorite, The All Day Pant is engineered to offer the rugged comfort and utility of jeans in a versatile package that won’t stick out at the office. Cut, sewn, and riveted to the same specs as our hard-wearing denim and rendered in supple organic cotton corduroy, The All Day Pant has quickly become an MVP of our wardrobes, knocking it out of the park on just about every occasion imaginable.  \n",
      "\n",
      "A creative experiment turned TS fan favorite, The All Day Pant is engineered to offer the rugged comfort and utility of jeans in a versatile package that won’t stick out at the office. Cut, sewn, and riveted to the same specs as our hard-wearing denim and rendered in supple organic cotton corduroy, The All Day Pant has quickly become an MVP of our wardrobes, knocking it out of the park on just about every occasion imaginable.  \n",
      "\n",
      "Nothing quite says “cozy” like wrapping a warm scarf around your neck. As much a piece of essential gear for wintertime adventures as it is a stylish accessory for a chilly night out, our Lodge Scarf offers up luxurious softness and functional insulation in equal measure.  \n",
      "\n",
      "Some look to calendars and weathermen to pinpoint a change in the seasons, but if you ask us, the cold season truly starts when we swap out our baseball cap for a classic knit beanie. Meet The Lodge Beanie; woven from incredibly soft baby yak wool. Easy to wear, hard to wear out, and uncompromisingly Responsible—The Lodge Beanie is how we ring in the season. \n",
      "\n",
      "While most of our gear is plenty prepared for outdoor exploration, nothing quite says “ready for the wilds” like a dependable quilted vest. Keeping your core warm while allowing full mobility comes in mighty handy out on the trails, but that doesn’t amount to much if it comes at the expense of the environment. That’s why The Able Vest in Quilted Army is constructed from 100% recycled materials (except for the top of the line YKK hardware, that is). And when it comes time to rejoin civilization, its clean and classic design is sure to garner some attention out on the town. \n",
      "\n",
      "“Utility Shirt” isn’t just some catchy nomenclature, it’s a declaration. When you’re pulling extra hours, 100% organic cotton double cloth wicks away moisture to keep you comfortable. When the situation calls for hard labor, rugged double-stitch construction and bar-tacked stress points are as work-ready as you are. And when it’s time to clean up for a meeting with the boss, a tailored silhouette and luxury touches (like dark horn buttons and a cut that stays tucked when you need it) ensure you’re looking as sharp as you feel. A single shirt that can carry you from punching in at the job to that date night reservation? Now that’s true Utility. \n",
      "\n",
      "“Utility Shirt” isn’t just some catchy nomenclature, it’s a declaration. When you’re pulling extra hours, 100% organic cotton double cloth wicks away moisture to keep you comfortable. When the situation calls for hard labor, rugged double-stitch construction and bar-tacked stress points are as work-ready as you are. And when it’s time to clean up for a meeting with the boss, a tailored silhouette and luxury touches (like dark horn buttons and a cut that stays tucked when you need it) ensure you’re looking as sharp as you feel. A single shirt that can carry you from punching in at the job to that date night reservation? Now that’s true Utility. \n",
      "\n",
      "“Utility Shirt” isn’t just some catchy nomenclature, it’s a declaration. When you’re pulling extra hours, 100% organic cotton double cloth wicks away moisture to keep you comfortable. When the situation calls for hard labor, rugged double-stitch construction and bar-tacked stress points are as work-ready as you are. And when it’s time to clean up for a meeting with the boss, a tailored silhouette and luxury touches (like dark horn buttons and a cut that stays tucked when you need it) ensure you’re looking as sharp as you feel. A single shirt that can carry you from punching in at the job to that date night reservation? Now that’s true Utility. \n",
      "\n",
      "As far as we’re concerned, there’s no substitute for a cozy sweater; thankfully, The Everett is no lightweight. Built with chunky 14-gauge merino wool, this cozy piece boasts an unbelievably soft hand feel (if you’re familiar with our other merino gear, you know what to expect) and an instantly arresting Navy Birdseye finish. Because merino wool regulates the body’s temperature, The Everett will keep you comfortable all year round—good news, too, because once this one’s in your rotation, you’ll want to keep it there forever.  \n",
      "\n",
      "Some look to calendars and weathermen to pinpoint a change in the seasons, but if you ask us, the cold season truly starts when we swap out our baseball cap for a classic knit beanie. Meet The Lodge Beanie; woven from incredibly soft baby yak wool. Easy to wear, hard to wear out, and uncompromisingly Responsible—The Lodge Beanie is how we ring in the season. \n",
      "\n",
      "Nothing quite says “cozy” like wrapping a warm scarf around your neck. As much a piece of essential gear for wintertime adventures as it is a stylish accessory for a chilly night out, our Lodge Scarf offers up luxurious softness and functional insulation in equal measure.  \n",
      "\n",
      "Some look to calendars and weathermen to pinpoint a change in the seasons, but if you ask us, the cold season truly starts when we swap out our baseball cap for a classic knit beanie. Meet The Lodge Beanie; woven from incredibly soft baby yak wool. Easy to wear, hard to wear out, and uncompromisingly Responsible—The Lodge Beanie is how we ring in the season. \n",
      "\n",
      "The game of rugby is fast and physical, requiring more than a little grit to get through a match. The same can be said about the classic rugby shirt worn on fields through history, defined by its contrasting collar, horizontal stripes, and supremely durable construction. While our take on this timeless piece of sportswear history boasts a few considered updates, like 100% organic cotton construction and a meticulously tailored fit, the heritage spirit of the sport remains strong in both its insanely durable build quality and vintage design cues.  \n",
      "\n",
      "Nothing quite says “cozy” like wrapping a warm scarf around your neck. As much a piece of essential gear for wintertime adventures as it is a stylish accessory for a chilly night out, our Lodge Scarf offers up luxurious softness and functional insulation in equal measure.  \n",
      "\n",
      "Equal parts looks, leisure, and lasting durability, our Filmore Crew returns in an organic cotton/ recycled polyester French terry with an intricate Donegal weave for a serious boost in both handfeel and visual impact. Cozy enough for a relaxing night in, rugged enough for a morning run, The Fillmore Crew tends to live in our backpacks, ever ready for the adventures to come.  \n",
      "\n",
      "Equal parts looks, leisure, and lasting durability, our Filmore Crew returns in an organic cotton/ recycled polyester French terry with an intricate Donegal weave for a serious boost in both handfeel and visual impact. Cozy enough for a relaxing night in, rugged enough for a morning run, The Fillmore Crew tends to live in our backpacks, ever ready for the adventures to come.  \n",
      "\n",
      "Our Fillmore Hoodie returns in a supple and sturdy organic cotton/recycled polyester French terry that stands out from the pack thanks to its rich, nuanced Donegal weave. Substantial, breathable, and superbly weighted, this is the one we reach for when the day calls for comfort. But make no mistake, while ideal for leisure, The Fillmore Hoodie In Cypress Terry is sturdy enough for hard labor when occasion calls. \n",
      "\n",
      "Our Fillmore Hoodie returns in a supple and sturdy organic cotton/recycled polyester French terry that stands out from the pack thanks to its rich, nuanced Donegal weave. Substantial, breathable, and superbly weighted, this is the one we reach for when the day calls for comfort. But make no mistake, while ideal for leisure, The Fillmore Hoodie In Copper Terry is sturdy enough for hard labor when occasion calls. \n",
      "\n",
      "There’s a certain cozy feeling you can only get when you’re snowed in, lounging by a crackling fire, a perfect cup of hot cocoa in hand. While we may not be able to provide the log cabin and cocoa, we built The Lodge Sweater to offer up the kind of comforting warmth that conjures that special feeling, all while being a fair sight stronger and more Responsible than cashmere. Meet The Lodge Sweater, made from 100% baby yak wool, which is naturally shed by the animals each year, side stepping the harmful environmental impact of traditional goat cashmere while retaining a luxurious hand and that “is it sweater season yet?” softness.  \n",
      "\n",
      "There’s a certain cozy feeling you can only get when you’re snowed in, lounging by a crackling fire, a perfect cup of hot cocoa in hand. While we may not be able to provide the log cabin and cocoa, we built The Lodge Sweater to offer up the kind of comforting warmth that conjures that special feeling, all while being a fair sight stronger and more Responsible than cashmere. Meet The Lodge Sweater, made from 100% baby yak wool, which is naturally shed by the animals each year, side stepping the harmful environmental impact of traditional goat cashmere while retaining a luxurious hand and that “is it sweater season yet?” softness.  \n",
      "\n",
      "There’s a certain cozy feeling you can only get when you’re snowed in, lounging by a crackling fire, a perfect cup of hot cocoa in hand. While we may not be able to provide the log cabin and cocoa, we built The Lodge Sweater to offer up the kind of comforting warmth that conjures that special feeling, all while being a fair sight stronger and more Responsible than cashmere. Meet The Lodge Sweater, made from 100% baby yak wool, which is naturally shed by the animals each year, side stepping the harmful environmental impact of traditional goat cashmere while retaining a luxurious hand and that “is it sweater season yet?” softness.  \n",
      "\n",
      "There’s a certain cozy feeling you can only get when you’re snowed in, lounging by a crackling fire, a perfect cup of hot cocoa in hand. While we may not be able to provide the log cabin and cocoa, we built The Lodge Sweater to offer up the kind of comforting warmth that conjures that special feeling, all while being a fair sight stronger and more Responsible than cashmere. Meet The Lodge Sweater, made from 100% baby yak wool, which is naturally shed by the animals each year, side stepping the harmful environmental impact of traditional goat cashmere while retaining a luxurious hand and that “is it sweater season yet?” softness.  \n",
      "\n",
      "There’s a certain cozy feeling you can only get when you’re snowed in, lounging by a crackling fire, a perfect cup of hot cocoa in hand. While we may not be able to provide the log cabin and cocoa, we built The Lodge Sweater to offer up the kind of comforting warmth that conjures that special feeling, all while being a fair sight stronger and more Responsible than cashmere. Meet The Lodge Sweater, made from 100% baby yak wool, which is naturally shed by the animals each year, side stepping the harmful environmental impact of traditional goat cashmere while retaining a luxurious hand and that “is it sweater season yet?” softness.  \n",
      "\n",
      "Your core wardrobe essentials are the foundation for everything else in your closet, and we think it pays to build on solid ground. Our Cotton Hemp Tee flies in the face of throwaway culture with top notch, Responsible materials and rugged build quality, all while offering that soft, lightweight feel of a well worn favorite. Trust us—it’ll be proving its worth long after lesser garments are bound for the landfill. \n",
      "\n",
      "Your core wardrobe essentials are the foundation for everything else in your closet, and we think it pays to build on solid ground. Our Cotton Hemp Tee flies in the face of throwaway culture with top notch, Responsible materials and rugged build quality, all while offering that soft, lightweight feel of a well worn favorite. Trust us—it’ll be proving its worth long after lesser garments are bound for the landfill. \n",
      "\n",
      "Your core wardrobe essentials are the foundation for everything else in your closet, and we think it pays to build on solid ground. Our Cotton Hemp Tee flies in the face of throwaway culture with top notch, Responsible materials and rugged build quality, all while offering that soft, lightweight feel of a well worn favorite. Trust us—it’ll be proving its worth long after lesser garments are bound for the landfill. \n",
      "\n",
      "Our Cotton Hemp Tee has earned quite the reputation over the years for its soft, worn in feel and legendary longevity. So building on the Cotton Hemp name with a pocketed long sleeve iteration seemed only natural. The Cotton Hemp Long Sleeve Tee feels like a well-worn favorite from the very first wear, but unlike your threadbare old standby, it offers Responsible materials, uncompromising build quality, and a fit that puts other basics to shame.  \n",
      "\n",
      "Our Cotton Hemp Tee has earned quite the reputation over the years for its soft, worn in feel and legendary longevity. So building on the Cotton Hemp name with a pocketed long sleeve iteration seemed only natural. The Cotton Hemp Long Sleeve Tee feels like a well-worn favorite from the very first wear, but unlike your threadbare old standby, it offers Responsible materials, uncompromising build quality, and a fit that puts other basics to shame.  \n",
      "\n",
      "The Ridge Moc in Golden Brown is a classic moc toe shoe with the hard-wearing craftsmanship to keep you sure-footed for life. The waxed suede construction will patina beautifully as wear and tear reveals the natural nep of the leather, yielding a rugged look that’s uniquely your own. We’ve fastened the Vibram lug sole with a weather resistant Goodyear welt; it’s the gold standard in footwear construction and renders The Ridge 100% resoleable. Finished with hex eyelets and ultra-durable leather laces, The Ridge Moc is designed for the miles ahead, and built For The Long Haul.   \n",
      "\n",
      "Mounted on a completely resoleable Goodyear-welted Vibram® sole and available for a limited time in a stunning waxed suede finish, our Moto Boot will see you through to the finish line—no matter where you’re going or how you get there. This boot may have been constructed for riding, but even if it never comes within twenty paces of a bike, it’s a fantastic-looking, incredibly comfortable boot that’s Built For The Long Haul. \n",
      "\n",
      "The Ventana Wilderness in Big Sur is a place of staggering natural beauty and treacherous terrain. It’s that balance of ruggedness and grace that inspired The Ventana Sweater. Built with buttery soft 100% merino wool that naturally wicks moisture, repels odor, and helps regulate body temperature, The Ventana is as much a trail ready piece of gear as it is a luxury layering piece, tailor made to turn heads from the campsite to the coffee shop.  \n",
      "\n",
      "The Fisherman Sweater’s rib stitch construction is instantly recognizable as a piece of dockside history, but we elevated our take on this cozy classic with breathable, temperature-regulating merino wool to extend its utility across all seasons. While the yarn gauge and knit is voluminous and chunky, double-thick ribbing at the cuffs and collar keep the silhouette tidy, so it’ll make waves whether you wear it on its own or as a mid-layer.  \n",
      "\n",
      "Instantly recognizable from the annals of seafaring history, our 100% merino wool Fisherman Sweater has been a cold weather staple for us since we first introduced the design. Now, we’re innovating on this TS classic with a full-zip iteration that boasts the same timeless look with the added utility of a rugged YKK zipper in front. Sure, it’s a modern update, but the look and feel are as sea-worthy as ever. \n",
      "\n",
      "The Fisherman Sweater’s rib stitch construction is instantly recognizable as a piece of dockside history, but we elevated our take on this cozy classic with breathable, temperature-regulating merino wool to extend its utility across all seasons. While the yarn gauge and knit is voluminous and chunky, double-thick ribbing at the cuffs and collar keep the silhouette tidy, so it’ll make waves whether you wear it on its own or as a mid-layer.  \n",
      "\n",
      "When it comes to utility, our Vertical Jacket is hard to beat. Inspired by the functional liner layers on traditional military coats, The Vertical Jacket is easy to layer up when temperatures take a nosedive, while a classic quilted pattern and meticulous tailoring make it more than handsome enough to rock solo in milder climates. Throw in elasticated cuffs, a secure zippered inner pocket, and weatherproof DWR finish and you’ve got a versatile piece of gear capable of taking on your most treacherous adventures.  \n",
      "\n",
      "When it comes to utility, our Vertical Jacket is hard to beat. Inspired by the functional liner layers on traditional military coats, The Vertical Jacket is easy to layer up when temperatures take a nosedive, while a classic quilted pattern and meticulous tailoring make it more than handsome enough to rock solo in milder climates. Throw in elasticated cuffs, a secure zippered inner pocket, and weatherproof DWR finish and you’ve got a versatile piece of gear capable of taking on your most treacherous adventures.  \n",
      "\n"
     ]
    }
   ],
   "source": [
    "# print each one out to inspect the description \n",
    "for item in all_info['Description']:\n",
    "  print(item,'\\n')"
   ]
  },
  {
   "cell_type": "code",
   "execution_count": 19,
   "metadata": {
    "ExecuteTime": {
     "end_time": "2022-09-03T00:43:00.623690Z",
     "start_time": "2022-09-03T00:43:00.615537Z"
    },
    "executionInfo": {
     "elapsed": 194,
     "status": "ok",
     "timestamp": 1658596215821,
     "user": {
      "displayName": "Eli Orland",
      "userId": "06741993258121341549"
     },
     "user_tz": 240
    },
    "id": "py4jkNQoqk9V"
   },
   "outputs": [],
   "source": [
    "# add the new descriptions to the existing file\n",
    "data = pd.concat([data,all_info])"
   ]
  },
  {
   "cell_type": "code",
   "execution_count": 20,
   "metadata": {
    "ExecuteTime": {
     "end_time": "2022-09-03T00:43:00.908242Z",
     "start_time": "2022-09-03T00:43:00.891915Z"
    },
    "colab": {
     "base_uri": "https://localhost:8080/"
    },
    "executionInfo": {
     "elapsed": 5,
     "status": "ok",
     "timestamp": 1658596215985,
     "user": {
      "displayName": "Eli Orland",
      "userId": "06741993258121341549"
     },
     "user_tz": 240
    },
    "id": "iT676jqSrDIk",
    "outputId": "fe69e5ef-4dfa-4fba-c58b-9bb015bbf88b"
   },
   "outputs": [
    {
     "data": {
      "text/plain": [
       "(1253, 3)"
      ]
     },
     "execution_count": 20,
     "metadata": {},
     "output_type": "execute_result"
    }
   ],
   "source": [
    "# look at new size\n",
    "data.shape"
   ]
  },
  {
   "cell_type": "code",
   "execution_count": 21,
   "metadata": {
    "ExecuteTime": {
     "end_time": "2022-09-03T00:43:02.639322Z",
     "start_time": "2022-09-03T00:43:02.591802Z"
    },
    "executionInfo": {
     "elapsed": 4,
     "status": "ok",
     "timestamp": 1658596216797,
     "user": {
      "displayName": "Eli Orland",
      "userId": "06741993258121341549"
     },
     "user_tz": 240
    },
    "id": "74uHVWIgdJDc"
   },
   "outputs": [],
   "source": [
    "# and finally save. \n",
    "data.to_csv('ref_files/product_info.csv',index=False,header=True)"
   ]
  },
  {
   "cell_type": "code",
   "execution_count": null,
   "metadata": {},
   "outputs": [],
   "source": []
  }
 ],
 "metadata": {
  "colab": {
   "authorship_tag": "ABX9TyMzv5PUvBftAs1BXv5jJ8Wq",
   "collapsed_sections": [],
   "name": "update_text_file.ipynb",
   "provenance": []
  },
  "kernelspec": {
   "display_name": "Python 3 (ipykernel)",
   "language": "python",
   "name": "python3"
  },
  "language_info": {
   "codemirror_mode": {
    "name": "ipython",
    "version": 3
   },
   "file_extension": ".py",
   "mimetype": "text/x-python",
   "name": "python",
   "nbconvert_exporter": "python",
   "pygments_lexer": "ipython3",
   "version": "3.9.7"
  }
 },
 "nbformat": 4,
 "nbformat_minor": 1
}
