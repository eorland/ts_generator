{
 "cells": [
  {
   "cell_type": "markdown",
   "metadata": {},
   "source": [
    "## Notebook walking through updating the text file - this could be automated, but keeping it as a notebook allows for an interactive process to QA/QC the descriptions and make sure they were scraped correctly. "
   ]
  },
  {
   "cell_type": "code",
   "execution_count": 17,
   "metadata": {
    "ExecuteTime": {
     "end_time": "2022-08-27T16:13:13.929251Z",
     "start_time": "2022-08-27T16:13:13.919701Z"
    },
    "executionInfo": {
     "elapsed": 1820,
     "status": "ok",
     "timestamp": 1658596045710,
     "user": {
      "displayName": "Eli Orland",
      "userId": "06741993258121341549"
     },
     "user_tz": 240
    },
    "id": "UB723r4RpSzj"
   },
   "outputs": [],
   "source": [
    "import requests\n",
    "from bs4 import BeautifulSoup\n",
    "import numpy as np\n",
    "import pandas as pd"
   ]
  },
  {
   "cell_type": "code",
   "execution_count": 18,
   "metadata": {
    "ExecuteTime": {
     "end_time": "2022-08-27T16:13:14.181904Z",
     "start_time": "2022-08-27T16:13:14.138613Z"
    },
    "colab": {
     "base_uri": "https://localhost:8080/",
     "height": 225
    },
    "executionInfo": {
     "elapsed": 17191,
     "status": "ok",
     "timestamp": 1658596062894,
     "user": {
      "displayName": "Eli Orland",
      "userId": "06741993258121341549"
     },
     "user_tz": 240
    },
    "id": "aFKoLY3cpfoY",
    "outputId": "d5a897d0-080f-4eec-ca64-f3a959cdf97c"
   },
   "outputs": [
    {
     "data": {
      "text/html": [
       "<div>\n",
       "<style scoped>\n",
       "    .dataframe tbody tr th:only-of-type {\n",
       "        vertical-align: middle;\n",
       "    }\n",
       "\n",
       "    .dataframe tbody tr th {\n",
       "        vertical-align: top;\n",
       "    }\n",
       "\n",
       "    .dataframe thead th {\n",
       "        text-align: right;\n",
       "    }\n",
       "</style>\n",
       "<table border=\"1\" class=\"dataframe\">\n",
       "  <thead>\n",
       "    <tr style=\"text-align: right;\">\n",
       "      <th></th>\n",
       "      <th>Name</th>\n",
       "      <th>Description</th>\n",
       "      <th>Material</th>\n",
       "    </tr>\n",
       "  </thead>\n",
       "  <tbody>\n",
       "    <tr>\n",
       "      <th>0</th>\n",
       "      <td>The Waylons in Chestnut</td>\n",
       "      <td>Built by our buddies at VALLON, The Waylons is...</td>\n",
       "      <td>The Waylons’ frame is made with lightweight, d...</td>\n",
       "    </tr>\n",
       "    <tr>\n",
       "      <th>1</th>\n",
       "      <td>The Sashiko Denim Repair Kit</td>\n",
       "      <td>Sure, you could hand off your well-worn denim ...</td>\n",
       "      <td>The Sashiko Denim Repair Kit includes an assor...</td>\n",
       "    </tr>\n",
       "    <tr>\n",
       "      <th>2</th>\n",
       "      <td>The Camp Candle in Shoreline</td>\n",
       "      <td>The Camp Candle was poured by hand in small ba...</td>\n",
       "      <td>Made with natural, renewable soy wax. Soy wax ...</td>\n",
       "    </tr>\n",
       "    <tr>\n",
       "      <th>3</th>\n",
       "      <td>The Cotton Hemp Tee in Charcoal Open Road</td>\n",
       "      <td>This exclusive edition of The Cotton Hemp Tee ...</td>\n",
       "      <td>Organic cotton offers all the benefits of the ...</td>\n",
       "    </tr>\n",
       "    <tr>\n",
       "      <th>4</th>\n",
       "      <td>The Cotton Hemp Tee in Navy Give to Get</td>\n",
       "      <td>Regenerative agriculture is all about reciproc...</td>\n",
       "      <td>We love organic cotton because it offers all o...</td>\n",
       "    </tr>\n",
       "  </tbody>\n",
       "</table>\n",
       "</div>"
      ],
      "text/plain": [
       "                                        Name  \\\n",
       "0                    The Waylons in Chestnut   \n",
       "1               The Sashiko Denim Repair Kit   \n",
       "2               The Camp Candle in Shoreline   \n",
       "3  The Cotton Hemp Tee in Charcoal Open Road   \n",
       "4    The Cotton Hemp Tee in Navy Give to Get   \n",
       "\n",
       "                                         Description  \\\n",
       "0  Built by our buddies at VALLON, The Waylons is...   \n",
       "1  Sure, you could hand off your well-worn denim ...   \n",
       "2  The Camp Candle was poured by hand in small ba...   \n",
       "3  This exclusive edition of The Cotton Hemp Tee ...   \n",
       "4  Regenerative agriculture is all about reciproc...   \n",
       "\n",
       "                                            Material  \n",
       "0  The Waylons’ frame is made with lightweight, d...  \n",
       "1  The Sashiko Denim Repair Kit includes an assor...  \n",
       "2  Made with natural, renewable soy wax. Soy wax ...  \n",
       "3  Organic cotton offers all the benefits of the ...  \n",
       "4  We love organic cotton because it offers all o...  "
      ]
     },
     "execution_count": 18,
     "metadata": {},
     "output_type": "execute_result"
    }
   ],
   "source": [
    "data = pd.read_csv('ref_files/product_info.csv')\n",
    "data.head()"
   ]
  },
  {
   "cell_type": "code",
   "execution_count": 19,
   "metadata": {
    "ExecuteTime": {
     "end_time": "2022-08-27T16:13:16.305254Z",
     "start_time": "2022-08-27T16:13:16.289746Z"
    }
   },
   "outputs": [
    {
     "data": {
      "text/plain": [
       "(1193, 3)"
      ]
     },
     "execution_count": 19,
     "metadata": {},
     "output_type": "execute_result"
    }
   ],
   "source": [
    "data.shape"
   ]
  },
  {
   "cell_type": "code",
   "execution_count": 20,
   "metadata": {
    "ExecuteTime": {
     "end_time": "2022-08-27T16:13:17.561878Z",
     "start_time": "2022-08-27T16:13:17.553560Z"
    },
    "executionInfo": {
     "elapsed": 217,
     "status": "ok",
     "timestamp": 1658596080068,
     "user": {
      "displayName": "Eli Orland",
      "userId": "06741993258121341549"
     },
     "user_tz": 240
    },
    "id": "vhnmNaAYpny2"
   },
   "outputs": [],
   "source": [
    "# different locations to scrape product data...\n",
    "\n",
    "other_url = 'https://www.taylorstitch.com/collections/2022-summer-sale-archive-bring-back?sorted=best-selling-sales-count'\n",
    "shirts_url = 'https://www.taylorstitch.com/collections/mens-shirts'\n",
    "bottoms_url = 'https://www.taylorstitch.com/collections/mens-bottoms'\n",
    "knits_url = 'https://www.taylorstitch.com/collections/mens-knits'\n",
    "outerwear_url = 'https://www.taylorstitch.com/collections/mens-outerwear'\n",
    "last_call_url = 'https://www.taylorstitch.com/collections/mens-last-call'\n",
    "base_url = 'https://www.taylorstitch.com'\n",
    "\n",
    "url_list = [shirts_url,bottoms_url,knits_url,outerwear_url,last_call_url]"
   ]
  },
  {
   "cell_type": "code",
   "execution_count": null,
   "metadata": {
    "ExecuteTime": {
     "end_time": "2022-08-27T16:00:08.130657Z",
     "start_time": "2022-08-27T14:24:04.761467Z"
    },
    "colab": {
     "base_uri": "https://localhost:8080/"
    },
    "executionInfo": {
     "elapsed": 102284,
     "status": "ok",
     "timestamp": 1658596184504,
     "user": {
      "displayName": "Eli Orland",
      "userId": "06741993258121341549"
     },
     "user_tz": 240
    },
    "id": "wWMiqUbUp6cB",
    "outputId": "82ff9ccc-0751-4cd6-b419-00443ae3ad37"
   },
   "outputs": [],
   "source": [
    "product_urls = [] # list of all product pages to get later\n",
    "\n",
    "for url in url_list:\n",
    "    site = requests.get(url)\n",
    "\n",
    "    soup = BeautifulSoup(site.text, 'html.parser')\n",
    "\n",
    "    products = soup.find_all('ul',{'class':'product matrix'})\n",
    "    products = products[0].find_all('a',href=True) # a tags hold products here\n",
    "\n",
    "    for product in products:\n",
    "        product_urls.append(base_url+product['href'])\n",
    "        \n",
    "# look at each product, pull relevent info.\n",
    "# store all info in lists, which will be converted to pandas df later\n",
    "product_title = []\n",
    "product_description = []\n",
    "product_material = []\n",
    "\n",
    "\n",
    "for product in product_urls:\n",
    "    product_page = requests.get(product)\n",
    "    product_soup = BeautifulSoup(product_page.text, 'html.parser')\n",
    "    \n",
    "    title_info = product_soup.find('h1')['data-title']\n",
    "    if data['Name'].str.contains(title_info).any():\n",
    "      continue\n",
    "    else: print('adding',title_info)\n",
    "\n",
    "    description_info = product_soup.find_all('div',\n",
    "                                             {'id':'collapsible-description'})\n",
    "    material_info = product_soup.find_all('div',\n",
    "                                             {'id':'collapsible-material'})\n",
    "\n",
    "    try: \n",
    "        description = description_info[0].find('p').text\n",
    "        material = material_info[0].find('p').text\n",
    "    \n",
    "    except:\n",
    "        print('could not add info for',title_info) \n",
    "        continue\n",
    "        \n",
    "    product_title.append(title_info)\n",
    "    product_description.append(description)\n",
    "    product_material.append(material)\n"
   ]
  },
  {
   "cell_type": "code",
   "execution_count": 21,
   "metadata": {
    "ExecuteTime": {
     "end_time": "2022-08-27T16:13:30.340385Z",
     "start_time": "2022-08-27T16:13:30.331090Z"
    }
   },
   "outputs": [],
   "source": [
    "all_info = pd.DataFrame(list(zip(product_title, \n",
    "                                 product_description,\n",
    "                                 product_material)),\n",
    "               columns =['Name', 'Description', 'Material'])"
   ]
  },
  {
   "cell_type": "code",
   "execution_count": 22,
   "metadata": {
    "ExecuteTime": {
     "end_time": "2022-08-27T16:13:30.853148Z",
     "start_time": "2022-08-27T16:13:30.843157Z"
    }
   },
   "outputs": [],
   "source": [
    "all_info = all_info.drop_duplicates()"
   ]
  },
  {
   "cell_type": "code",
   "execution_count": 25,
   "metadata": {
    "ExecuteTime": {
     "end_time": "2022-08-27T16:13:38.999166Z",
     "start_time": "2022-08-27T16:13:38.989207Z"
    }
   },
   "outputs": [
    {
     "data": {
      "text/plain": [
       "(16, 3)"
      ]
     },
     "execution_count": 25,
     "metadata": {},
     "output_type": "execute_result"
    }
   ],
   "source": [
    "all_info.shape"
   ]
  },
  {
   "cell_type": "code",
   "execution_count": 10,
   "metadata": {
    "ExecuteTime": {
     "end_time": "2022-08-27T16:05:20.846069Z",
     "start_time": "2022-08-27T16:05:20.833578Z"
    },
    "colab": {
     "base_uri": "https://localhost:8080/"
    },
    "executionInfo": {
     "elapsed": 167,
     "status": "ok",
     "timestamp": 1658596191229,
     "user": {
      "displayName": "Eli Orland",
      "userId": "06741993258121341549"
     },
     "user_tz": 240
    },
    "id": "-eHuNJLQwP6_",
    "outputId": "646adc17-7ad5-4745-fa20-4e8491a18486"
   },
   "outputs": [
    {
     "name": "stdout",
     "output_type": "stream",
     "text": [
      "Our California shirt embodies the laid back, industrious, earth conscious vibes of our beloved home state, so it’s no surprise that the design is close to our hearts. What we didn’t expect was how much our TS family would love it too. It seems the lightweight feel, tailored silhouette and rugged double-needle felled construction make The California a no-nonsense, no-brainer for folks from all fifty states and beyond. This retro-inspired Trolley Plaid iteration is the perfect pair for everything from slacks, to chinos to your favorite pair of battered blue jeans, so you can take some California spirit with you no matter the occasion. \n",
      "\n",
      "Our California shirt embodies the laid back, industrious, earth conscious vibes of our beloved home state, so it’s no surprise that the design is close to our hearts. What we didn’t expect was how much our TS family would love it too. It seems the lightweight feel, tailored silhouette and rugged double-needle felled construction make The California a no-nonsense, no-brainer for folks from all fifty states and beyond. This versatile Zephyr Plaid iteration is the perfect pair for everything from slacks, to chinos to your favorite pair of battered blue jeans, so you can take some California spirit with you no matter the occasion. \n",
      "\n",
      "The Yosemite Shirt has had a place in our hearts (and wardrobes) since TS was just a fledgling shirting company. Today, with more than a decade of know-how under our belts, The Yosemite still embodies the spirit of TS better than almost anything else in our roster. It’s a burly, dependable flannel that will only get softer each time you stuff it in your backpack for an outdoor excursion, and thanks to an updated warp and weft yarn structure, The Yosemite won’t shrink in the wash when it comes time for cleanup. \n",
      "\n",
      "The Yosemite Shirt has had a place in our hearts (and wardrobes) since TS was just a fledgling shirting company. Today, with more than a decade of know-how under our belts, The Yosemite still embodies the spirit of TS better than almost anything else in our roster. It’s a burly, dependable flannel that will only get softer each time you stuff it in your backpack for an outdoor excursion, and thanks to an updated warp and weft yarn structure, The Yosemite won’t shrink in the wash when it comes time for cleanup. \n",
      "\n",
      "The Yosemite Shirt has had a place in our hearts (and wardrobes) since TS was just a fledgling shirting company. Today, with more than a decade of know-how under our belts, The Yosemite still embodies the spirit of TS better than almost anything else in our roster. It’s a burly, dependable flannel that will only get softer each time you stuff it in your backpack for an outdoor excursion, and thanks to an updated warp and weft yarn structure, The Yosemite won’t shrink in the wash when it comes time for cleanup. \n",
      "\n",
      "The Yosemite Shirt has had a place in our hearts (and wardrobes) since TS was just a fledgling shirting company. Today, with more than a decade of know-how under our belts, The Yosemite still embodies the spirit of TS better than almost anything else in our roster. It’s a burly, dependable flannel that will only get softer each time you stuff it in your backpack for an outdoor excursion, and thanks to an updated warp and weft yarn structure, The Yosemite won’t shrink in the wash when it comes time for cleanup.  \n",
      "\n",
      "The Yosemite Shirt has had a place in our hearts (and wardrobes) since TS was just a fledgling shirting company. Today, with more than a decade of know-how under our belts, The Yosemite still embodies the spirit of TS better than almost anything else in our roster. It’s a burly, dependable flannel that will only get softer each time you stuff it in your backpack for an outdoor excursion, and thanks to an updated warp and weft yarn structure, The Yosemite won’t shrink in the wash when it comes time for cleanup. \n",
      "\n",
      "The Yosemite Shirt has had a place in our hearts (and wardrobes) since TS was just a fledgling shirting company. Today, with more than a decade of know-how under our belts, The Yosemite still embodies the spirit of TS better than almost anything else in our roster. It’s a burly, dependable flannel that will only get softer each time you stuff it in your backpack for an outdoor excursion, and thanks to an updated warp and weft yarn structure, The Yosemite won’t shrink in the wash when it comes time for cleanup.  \n",
      "\n",
      "Our take on the classic military field shirt leans on meticulous craftsmanship and handsome tailoring, not bells and whistles. Meet The Point Shirt in Indigo Slub; a timeless silhouette featuring historically accurate details such as dual patch front pockets and vintage melamine style buttons, with major material updates. This balanced organic cotton/linen blend boasts incredible texture, and it’s finished with a thorough wash for a soft, worn-in feel from the very first wear. Eye catching and easy to wear, The Point Shirt is our battle buddy of choice, season after season.   \n",
      "\n",
      "Our take on the classic military field shirt leans on meticulous craftsmanship and handsome tailoring, not bells and whistles. Meet The Point Shirt in Rain Drop Camo; a timeless silhouette featuring historically accurate details such as dual patch front pockets and vintage melamine style buttons, with major updates in the looks department. This 100% organic cotton ripstop fabric will wear in and soften over time, while the understated Rain Drop Camo pattern continues turning heads. Eye catching and easy to wear, The Point Shirt is our battle buddy of choice, season after season.  \n",
      "\n",
      "Designed in collaboration with Ron Finley as part of our Digging In Capsule, The Carpenter Pant in Cedar Boss Duck may just be the only pant as resilient and work-ready as Finley himself. And trust us, that’s saying something. They’re constructed from a Responsible, ultra-tough Boss Duck canvas specially developed for Taylor Stitch with hemp, organic cotton, recycled polyester, and just a touch of spandex for stretch, giving you an impervious pant tailor-made to take a lickin’ and keep on kickin’. Speaking of which, the hem openings are reinforced with kick panels to keep your cuffs from fraying.  We’ve also added interior reinforcement to the knees and bar tack reinforcements on the front and back pockets. Excessive? Maybe, but then again, it’s better to have it and not need it than, well… you know how it goes. To top it all off, you’ve got extra tool pockets, an added coin pocket, a back pen pocket, and a hammer loop—your toolbox never looked so good. This classic Cedar Boss Duck colorway has been given a Heavy stonewash for a broken-in feel that’s ready to work right out of the box.  \n",
      "\n",
      "Our Democratic Jeans in Natural Indigo Selvage are made right here in the USA by skilled craftsmen using the highest quality materials out there. Rather than relying on more popular synthetic dyes, each fiber is dipped in natural indigo and quickly withdrawn, leaving the interior of the yarn white while the outside of it takes on that beautiful blue hue. As that indigo cracks and breaks away from daily wear (and trust us, you’ll want to wear them daily), the undyed core will become exposed, creating a fade pattern that tells a story all your own. We hope it’s a wild one.  \n",
      "\n",
      "Whether you call it wabi-sabi, patina, or just well worn, there’s a certain kind of beauty to a well loved pair of jeans. Like they’ve been around the block, and picked up some stories along the way. We’ve modeled these Patch Wash Selvedge Jeans off of a vintage pair that our design team stumbled across, and we think the results speak for themselves. With hand stitched repairs front and back as well our usual suite of flawless features (like vintage map print pocketing and custom YKK hardware), you’re getting a one of a kind, road-worn look with top tier craftsmanship, so they’ll last long enough for you to add some wear and tear of your own.  \n",
      "\n",
      "Whether you call it wabi-sabi, patina, or just well worn, there’s a certain kind of beauty to a well loved pair of jeans. Like they’ve been around the block, and picked up some stories along the way. We’ve modeled these Patch Wash Selvedge Jeans off of a vintage pair that our design team stumbled across, and we think the results speak for themselves. With hand stitched repairs front and back as well our usual suite of flawless features (like vintage map print pocketing and custom YKK hardware), you’re getting a one of a kind, road-worn look with top tier craftsmanship, so they’ll last long enough for you to add some wear and tear of your own.  \n",
      "\n",
      "We’ve taken everything we’ve learned from cooking up quality chinos and jeans and poured it into a pair of sweats engineered to go the extra mile. Functional features like a button fly and a suite of handy pockets means they’re well equipped to help you knock out those weekend errands, while organic cotton/recycled polyester French terry in a nuanced Donegal weave offers a soft, rich texture with a serious boost in visual impact. We finished ‘em with some heavyweight ribbing at the waist and leg openings for that signature Fillmore comfort and mobility.  \n",
      "\n",
      "We’ve taken everything we’ve learned from cooking up quality chinos and jeans and poured it into a pair of sweats engineered to go the extra mile. Functional features like a button fly and a suite of handy pockets means they’re well equipped to help you knock out those weekend errands, while organic cotton/recycled polyester French terry in a nuanced Donegal weave offers a soft, rich texture with a serious boost in visual impact. We finished ‘em with some heavyweight ribbing at the waist and leg openings for that signature Fillmore comfort and mobility.  \n",
      "\n"
     ]
    }
   ],
   "source": [
    "# print each one out to inspect the description \n",
    "for item in all_info['Description']:\n",
    "  print(item,'\\n')"
   ]
  },
  {
   "cell_type": "code",
   "execution_count": 26,
   "metadata": {
    "ExecuteTime": {
     "end_time": "2022-08-27T16:13:42.341662Z",
     "start_time": "2022-08-27T16:13:42.330411Z"
    },
    "executionInfo": {
     "elapsed": 194,
     "status": "ok",
     "timestamp": 1658596215821,
     "user": {
      "displayName": "Eli Orland",
      "userId": "06741993258121341549"
     },
     "user_tz": 240
    },
    "id": "py4jkNQoqk9V"
   },
   "outputs": [],
   "source": [
    "# add the new descriptions to the existing file\n",
    "data = pd.concat([data,all_info])"
   ]
  },
  {
   "cell_type": "code",
   "execution_count": 27,
   "metadata": {
    "ExecuteTime": {
     "end_time": "2022-08-27T16:13:42.748365Z",
     "start_time": "2022-08-27T16:13:42.731757Z"
    },
    "colab": {
     "base_uri": "https://localhost:8080/"
    },
    "executionInfo": {
     "elapsed": 5,
     "status": "ok",
     "timestamp": 1658596215985,
     "user": {
      "displayName": "Eli Orland",
      "userId": "06741993258121341549"
     },
     "user_tz": 240
    },
    "id": "iT676jqSrDIk",
    "outputId": "fe69e5ef-4dfa-4fba-c58b-9bb015bbf88b"
   },
   "outputs": [
    {
     "data": {
      "text/plain": [
       "(1209, 3)"
      ]
     },
     "execution_count": 27,
     "metadata": {},
     "output_type": "execute_result"
    }
   ],
   "source": [
    "# look at new size\n",
    "data.shape"
   ]
  },
  {
   "cell_type": "code",
   "execution_count": 28,
   "metadata": {
    "ExecuteTime": {
     "end_time": "2022-08-27T16:13:44.148187Z",
     "start_time": "2022-08-27T16:13:44.100394Z"
    },
    "executionInfo": {
     "elapsed": 4,
     "status": "ok",
     "timestamp": 1658596216797,
     "user": {
      "displayName": "Eli Orland",
      "userId": "06741993258121341549"
     },
     "user_tz": 240
    },
    "id": "74uHVWIgdJDc"
   },
   "outputs": [],
   "source": [
    "# and finally save. \n",
    "data.to_csv('product_info.csv',index=False,header=True)"
   ]
  },
  {
   "cell_type": "code",
   "execution_count": null,
   "metadata": {},
   "outputs": [],
   "source": []
  }
 ],
 "metadata": {
  "colab": {
   "authorship_tag": "ABX9TyMzv5PUvBftAs1BXv5jJ8Wq",
   "collapsed_sections": [],
   "name": "update_text_file.ipynb",
   "provenance": []
  },
  "kernelspec": {
   "display_name": "Python 3 (ipykernel)",
   "language": "python",
   "name": "python3"
  },
  "language_info": {
   "codemirror_mode": {
    "name": "ipython",
    "version": 3
   },
   "file_extension": ".py",
   "mimetype": "text/x-python",
   "name": "python",
   "nbconvert_exporter": "python",
   "pygments_lexer": "ipython3",
   "version": "3.9.7"
  }
 },
 "nbformat": 4,
 "nbformat_minor": 1
}
