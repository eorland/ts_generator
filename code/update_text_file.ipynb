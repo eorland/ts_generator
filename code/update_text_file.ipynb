{
 "cells": [
  {
   "cell_type": "markdown",
   "metadata": {},
   "source": [
    "Notebook walking through updating the text file used for model training. "
   ]
  },
  {
   "cell_type": "code",
   "execution_count": 2,
   "metadata": {
    "ExecuteTime": {
     "end_time": "2022-08-06T16:23:16.970271Z",
     "start_time": "2022-08-06T16:23:16.518481Z"
    },
    "executionInfo": {
     "elapsed": 1820,
     "status": "ok",
     "timestamp": 1658596045710,
     "user": {
      "displayName": "Eli Orland",
      "userId": "06741993258121341549"
     },
     "user_tz": 240
    },
    "id": "UB723r4RpSzj"
   },
   "outputs": [],
   "source": [
    "import requests\n",
    "from bs4 import BeautifulSoup\n",
    "import numpy as np\n",
    "import pandas as pd"
   ]
  },
  {
   "cell_type": "code",
   "execution_count": 21,
   "metadata": {
    "ExecuteTime": {
     "end_time": "2022-08-06T18:24:50.966468Z",
     "start_time": "2022-08-06T18:24:50.938129Z"
    },
    "colab": {
     "base_uri": "https://localhost:8080/",
     "height": 225
    },
    "executionInfo": {
     "elapsed": 17191,
     "status": "ok",
     "timestamp": 1658596062894,
     "user": {
      "displayName": "Eli Orland",
      "userId": "06741993258121341549"
     },
     "user_tz": 240
    },
    "id": "aFKoLY3cpfoY",
    "outputId": "d5a897d0-080f-4eec-ca64-f3a959cdf97c"
   },
   "outputs": [
    {
     "data": {
      "text/html": [
       "<div>\n",
       "<style scoped>\n",
       "    .dataframe tbody tr th:only-of-type {\n",
       "        vertical-align: middle;\n",
       "    }\n",
       "\n",
       "    .dataframe tbody tr th {\n",
       "        vertical-align: top;\n",
       "    }\n",
       "\n",
       "    .dataframe thead th {\n",
       "        text-align: right;\n",
       "    }\n",
       "</style>\n",
       "<table border=\"1\" class=\"dataframe\">\n",
       "  <thead>\n",
       "    <tr style=\"text-align: right;\">\n",
       "      <th></th>\n",
       "      <th>Name</th>\n",
       "      <th>Description</th>\n",
       "      <th>Material</th>\n",
       "    </tr>\n",
       "  </thead>\n",
       "  <tbody>\n",
       "    <tr>\n",
       "      <th>0</th>\n",
       "      <td>The Waylons in Chestnut</td>\n",
       "      <td>Built by our buddies at VALLON, The Waylons is...</td>\n",
       "      <td>The Waylons’ frame is made with lightweight, d...</td>\n",
       "    </tr>\n",
       "    <tr>\n",
       "      <th>1</th>\n",
       "      <td>The Sashiko Denim Repair Kit</td>\n",
       "      <td>Sure, you could hand off your well-worn denim ...</td>\n",
       "      <td>The Sashiko Denim Repair Kit includes an assor...</td>\n",
       "    </tr>\n",
       "    <tr>\n",
       "      <th>2</th>\n",
       "      <td>The Camp Candle in Shoreline</td>\n",
       "      <td>The Camp Candle was poured by hand in small ba...</td>\n",
       "      <td>Made with natural, renewable soy wax. Soy wax ...</td>\n",
       "    </tr>\n",
       "    <tr>\n",
       "      <th>3</th>\n",
       "      <td>The Cotton Hemp Tee in Charcoal Open Road</td>\n",
       "      <td>This exclusive edition of The Cotton Hemp Tee ...</td>\n",
       "      <td>Organic cotton offers all the benefits of the ...</td>\n",
       "    </tr>\n",
       "    <tr>\n",
       "      <th>4</th>\n",
       "      <td>The Cotton Hemp Tee in Navy Give to Get</td>\n",
       "      <td>Regenerative agriculture is all about reciproc...</td>\n",
       "      <td>We love organic cotton because it offers all o...</td>\n",
       "    </tr>\n",
       "  </tbody>\n",
       "</table>\n",
       "</div>"
      ],
      "text/plain": [
       "                                        Name  \\\n",
       "0                    The Waylons in Chestnut   \n",
       "1               The Sashiko Denim Repair Kit   \n",
       "2               The Camp Candle in Shoreline   \n",
       "3  The Cotton Hemp Tee in Charcoal Open Road   \n",
       "4    The Cotton Hemp Tee in Navy Give to Get   \n",
       "\n",
       "                                         Description  \\\n",
       "0  Built by our buddies at VALLON, The Waylons is...   \n",
       "1  Sure, you could hand off your well-worn denim ...   \n",
       "2  The Camp Candle was poured by hand in small ba...   \n",
       "3  This exclusive edition of The Cotton Hemp Tee ...   \n",
       "4  Regenerative agriculture is all about reciproc...   \n",
       "\n",
       "                                            Material  \n",
       "0  The Waylons’ frame is made with lightweight, d...  \n",
       "1  The Sashiko Denim Repair Kit includes an assor...  \n",
       "2  Made with natural, renewable soy wax. Soy wax ...  \n",
       "3  Organic cotton offers all the benefits of the ...  \n",
       "4  We love organic cotton because it offers all o...  "
      ]
     },
     "execution_count": 21,
     "metadata": {},
     "output_type": "execute_result"
    }
   ],
   "source": [
    "# connect to drive\n",
    "#from google.colab import drive\n",
    "#drive.mount('/content/drive',force_remount=True)\n",
    "\n",
    "data = pd.read_csv('taylor_stitch_info.csv')\n",
    "data.head()"
   ]
  },
  {
   "cell_type": "code",
   "execution_count": 22,
   "metadata": {
    "ExecuteTime": {
     "end_time": "2022-08-06T18:24:52.648290Z",
     "start_time": "2022-08-06T18:24:52.641904Z"
    },
    "colab": {
     "base_uri": "https://localhost:8080/"
    },
    "executionInfo": {
     "elapsed": 19,
     "status": "ok",
     "timestamp": 1658596062896,
     "user": {
      "displayName": "Eli Orland",
      "userId": "06741993258121341549"
     },
     "user_tz": 240
    },
    "id": "OVK5x6WmdTZi",
    "outputId": "bbb6451a-6746-4910-c962-15ea795d25d9"
   },
   "outputs": [
    {
     "data": {
      "text/plain": [
       "(1193, 3)"
      ]
     },
     "execution_count": 22,
     "metadata": {},
     "output_type": "execute_result"
    }
   ],
   "source": [
    "data.shape"
   ]
  },
  {
   "cell_type": "code",
   "execution_count": 7,
   "metadata": {
    "ExecuteTime": {
     "end_time": "2022-08-06T18:10:32.716929Z",
     "start_time": "2022-08-06T18:10:32.711739Z"
    },
    "executionInfo": {
     "elapsed": 217,
     "status": "ok",
     "timestamp": 1658596080068,
     "user": {
      "displayName": "Eli Orland",
      "userId": "06741993258121341549"
     },
     "user_tz": 240
    },
    "id": "vhnmNaAYpny2"
   },
   "outputs": [],
   "source": [
    "#archive_url = 'https://www.taylorstitch.com/collections/mens-archive'\n",
    "other_url = 'https://www.taylorstitch.com/collections/2022-summer-sale-archive-bring-back?sorted=best-selling-sales-count'\n",
    "shirts_url = 'https://www.taylorstitch.com/collections/mens-shirts'\n",
    "bottoms_url = 'https://www.taylorstitch.com/collections/mens-bottoms'\n",
    "knits_url = 'https://www.taylorstitch.com/collections/mens-knits'\n",
    "outerwear_url = 'https://www.taylorstitch.com/collections/mens-outerwear'\n",
    "last_call_url = 'https://www.taylorstitch.com/collections/mens-last-call'\n",
    "base_url = 'https://www.taylorstitch.com'\n",
    "\n",
    "url_list = [shirts_url,bottoms_url,knits_url,outerwear_url,last_call_url]\n",
    "#url_list = [shirts_url]"
   ]
  },
  {
   "cell_type": "code",
   "execution_count": 8,
   "metadata": {
    "ExecuteTime": {
     "end_time": "2022-08-06T18:20:32.246676Z",
     "start_time": "2022-08-06T18:10:35.539670Z"
    },
    "colab": {
     "base_uri": "https://localhost:8080/"
    },
    "executionInfo": {
     "elapsed": 102284,
     "status": "ok",
     "timestamp": 1658596184504,
     "user": {
      "displayName": "Eli Orland",
      "userId": "06741993258121341549"
     },
     "user_tz": 240
    },
    "id": "wWMiqUbUp6cB",
    "outputId": "82ff9ccc-0751-4cd6-b419-00443ae3ad37"
   },
   "outputs": [
    {
     "name": "stdout",
     "output_type": "stream",
     "text": [
      "adding The Jack in Walnut Cord\n",
      "adding The Jack in Dark Navy Cord\n",
      "adding The Jack in Birch Cord\n",
      "adding The Western Shirt in Wheat Selvage Denim\n",
      "adding The Weekend Pant in Coal Double Knit\n",
      "adding The Weekend Hoodie in Coal Double Knit\n",
      "adding The Weekend Pant in Coal Double Knit\n",
      "adding The Bomber Jacket in Sierra Suede\n"
     ]
    }
   ],
   "source": [
    "product_urls = [] # list of all product pages to get later\n",
    "\n",
    "for url in url_list:\n",
    "    site = requests.get(url)\n",
    "\n",
    "    soup = BeautifulSoup(site.text, 'html.parser')\n",
    "\n",
    "    products = soup.find_all('ul',{'class':'product matrix'})\n",
    "    products = products[0].find_all('a',href=True) # a tags hold products here\n",
    "\n",
    "    for product in products:\n",
    "        product_urls.append(base_url+product['href'])\n",
    "        \n",
    "# look at each product, pull relevent info.\n",
    "# store all info in lists, which will be converted to pandas df later\n",
    "product_title = []\n",
    "product_description = []\n",
    "product_material = []\n",
    "\n",
    "\n",
    "for product in product_urls:\n",
    "    product_page = requests.get(product)\n",
    "    product_soup = BeautifulSoup(product_page.text, 'html.parser')\n",
    "    \n",
    "    title_info = product_soup.find('h1')['data-title']\n",
    "    if data['Name'].str.contains(title_info).any():\n",
    "      #print(title_info,'already exists!')\n",
    "      continue\n",
    "    else: print('adding',title_info)\n",
    "\n",
    "    description_info = product_soup.find_all('div',\n",
    "                                             {'id':'collapsible-description'})\n",
    "    material_info = product_soup.find_all('div',\n",
    "                                             {'id':'collapsible-material'})\n",
    "    #if len(description_info)==0:\n",
    "    #   continue\n",
    "    try: \n",
    "        description = description_info[0].find('p').text\n",
    "        material = material_info[0].find('p').text\n",
    "    \n",
    "    except:\n",
    "        print('could not add info for',title_info) \n",
    "        continue\n",
    "        \n",
    "    product_title.append(title_info)\n",
    "    product_description.append(description)\n",
    "    product_material.append(material)\n",
    "\n",
    "    \n",
    "all_info = pd.DataFrame(list(zip(product_title, \n",
    "                                 product_description,\n",
    "                                 product_material)),\n",
    "               columns =['Name', 'Description', 'Material'])\n"
   ]
  },
  {
   "cell_type": "code",
   "execution_count": 16,
   "metadata": {
    "ExecuteTime": {
     "end_time": "2022-08-06T18:24:29.138133Z",
     "start_time": "2022-08-06T18:24:29.130379Z"
    }
   },
   "outputs": [],
   "source": [
    "all_info = all_info.drop_duplicates()"
   ]
  },
  {
   "cell_type": "code",
   "execution_count": 17,
   "metadata": {
    "ExecuteTime": {
     "end_time": "2022-08-06T18:24:30.996745Z",
     "start_time": "2022-08-06T18:24:30.988669Z"
    },
    "colab": {
     "base_uri": "https://localhost:8080/"
    },
    "executionInfo": {
     "elapsed": 167,
     "status": "ok",
     "timestamp": 1658596191229,
     "user": {
      "displayName": "Eli Orland",
      "userId": "06741993258121341549"
     },
     "user_tz": 240
    },
    "id": "-eHuNJLQwP6_",
    "outputId": "646adc17-7ad5-4745-fa20-4e8491a18486"
   },
   "outputs": [
    {
     "name": "stdout",
     "output_type": "stream",
     "text": [
      "Timeless tailoring, rugged build quality, and unmatched versatility have earned The Jack both legendary status, and a permanent place in our wardrobes. This time around, we’ve upped the ante in the texture department with a balanced 100% organic cotton cord that’ll stand up to whatever you throw at it, and develop amazing character as the years take their toll. From that backwoods fishing trip to a fancy dinner date, The Jack in Walnut Cord is as dependable as they come.  \n",
      "\n",
      "Timeless tailoring, rugged build quality, and unmatched versatility have earned The Jack both legendary status, and a permanent place in our wardrobes. This time around, we’ve upped the ante in the texture department with a balanced 100% organic cotton cord that’ll stand up to whatever you throw at it and develop amazing character as the years take their toll. From that backwoods fishing trip to a fancy dinner date, The Jack in Dark Navy Cord is as dependable as they come.  \n",
      "\n",
      "Timeless tailoring, rugged build quality, and unmatched versatility have earned The Jack both legendary status, and a permanent place in our wardrobes. This time around, we’ve upped the ante in the texture department with a balanced 100% organic cotton cord that’ll stand up to whatever you throw at it and develop amazing character as the years take their toll. From that backwoods fishing trip to a fancy dinner date, The Jack in Birch Cord is as dependable as they come.  \n",
      "\n",
      "The contemporary construction and vintage styling of our signature Western Shirt has proven to be quite the capable canvas over the years with its distinctive flair and saddle-ready durability, and this Washed Selvage iteration is no exception. Picture perfect details like genuine YKK western snaps, slanted chest pockets, and an antique brass concho top button set our tip of the hat to cowboy culture a step above the rest. This classic Wheat colorway is washed for a well loved feel and pigment dyed, so it’ll develop some killer fades, whether you wear it on the town or out on the ranch.  \n",
      "\n",
      "A perfect weekend can look like lazy days on the couch, a scenic ride up the coast, or a hardcore hike with your buddies. So we designed The Weekend Pant to tackle it all and come back looking (and feeling) even better than before. The double knit fabric sports a super soft jersey outer with a waffle stitched interior for extra breathability, and the handsome Coal colorway goes with just about anything, for casual comfort that’s as limitless as your weekend possibilities. Here’s to maximizing that “me time”.  \n",
      "\n",
      "A perfect weekend can look like lazy days on the couch, a scenic ride up the coast, or a hardcore hike with your buddies. So we designed The Weekend Hoodie to tackle it all and come back looking (and feeling) even better than before. The double knit fabric sports a super soft jersey outer with a waffle stitched interior for extra breathability, and the handsome Coal colorway goes with just about anything, for casual comfort that’s as limitless as your weekend possibilities. Here’s to maximizing that “me time”.  \n",
      "\n",
      "The bomber jacket is a bonafide American classic, so when it came time for us to design one of our own, we pulled out all the stops. The Bomber in Sierra Suede stays true to its storied lineage with a flattering shorter cut, YKK zip front (reminiscent of the A-2 flight jackets of the 1930s), and burly ribbing at every opening. But where this jacket truly breaks from the pack is in the materials department. With a 3-oz calf suede outer that was made to take a beating, The Bomber in Sierra Suede will up the altitude on any outfit, even decades down the line.  \n",
      "\n"
     ]
    }
   ],
   "source": [
    "for item in all_info['Description']:\n",
    "  print(item,'\\n')"
   ]
  },
  {
   "cell_type": "code",
   "execution_count": 18,
   "metadata": {
    "ExecuteTime": {
     "end_time": "2022-08-06T18:24:38.338036Z",
     "start_time": "2022-08-06T18:24:38.331362Z"
    },
    "executionInfo": {
     "elapsed": 194,
     "status": "ok",
     "timestamp": 1658596215821,
     "user": {
      "displayName": "Eli Orland",
      "userId": "06741993258121341549"
     },
     "user_tz": 240
    },
    "id": "py4jkNQoqk9V"
   },
   "outputs": [],
   "source": [
    "data = pd.concat([data,all_info])"
   ]
  },
  {
   "cell_type": "code",
   "execution_count": 19,
   "metadata": {
    "ExecuteTime": {
     "end_time": "2022-08-06T18:24:38.983680Z",
     "start_time": "2022-08-06T18:24:38.976631Z"
    },
    "colab": {
     "base_uri": "https://localhost:8080/"
    },
    "executionInfo": {
     "elapsed": 5,
     "status": "ok",
     "timestamp": 1658596215985,
     "user": {
      "displayName": "Eli Orland",
      "userId": "06741993258121341549"
     },
     "user_tz": 240
    },
    "id": "iT676jqSrDIk",
    "outputId": "fe69e5ef-4dfa-4fba-c58b-9bb015bbf88b"
   },
   "outputs": [
    {
     "data": {
      "text/plain": [
       "(1193, 3)"
      ]
     },
     "execution_count": 19,
     "metadata": {},
     "output_type": "execute_result"
    }
   ],
   "source": [
    "data.shape"
   ]
  },
  {
   "cell_type": "code",
   "execution_count": 20,
   "metadata": {
    "ExecuteTime": {
     "end_time": "2022-08-06T18:24:45.611073Z",
     "start_time": "2022-08-06T18:24:45.554603Z"
    },
    "executionInfo": {
     "elapsed": 4,
     "status": "ok",
     "timestamp": 1658596216797,
     "user": {
      "displayName": "Eli Orland",
      "userId": "06741993258121341549"
     },
     "user_tz": 240
    },
    "id": "74uHVWIgdJDc"
   },
   "outputs": [],
   "source": [
    "data.to_csv('taylor_stitch_info.csv',index=False,header=True)"
   ]
  },
  {
   "cell_type": "code",
   "execution_count": 10,
   "metadata": {
    "executionInfo": {
     "elapsed": 207,
     "status": "ok",
     "timestamp": 1658596225694,
     "user": {
      "displayName": "Eli Orland",
      "userId": "06741993258121341549"
     },
     "user_tz": 240
    },
    "id": "N9g2gZ-DdQrF"
   },
   "outputs": [],
   "source": [
    "from collections import Counter"
   ]
  },
  {
   "cell_type": "code",
   "execution_count": 11,
   "metadata": {
    "executionInfo": {
     "elapsed": 4,
     "status": "ok",
     "timestamp": 1658596225867,
     "user": {
      "displayName": "Eli Orland",
      "userId": "06741993258121341549"
     },
     "user_tz": 240
    },
    "id": "3-l0JLjcoXTD"
   },
   "outputs": [],
   "source": [
    "all_descriptions = data['Description'].unique().tolist()"
   ]
  },
  {
   "cell_type": "code",
   "execution_count": 12,
   "metadata": {
    "executionInfo": {
     "elapsed": 176,
     "status": "ok",
     "timestamp": 1658596228237,
     "user": {
      "displayName": "Eli Orland",
      "userId": "06741993258121341549"
     },
     "user_tz": 240
    },
    "id": "vRyLMOcqofpY"
   },
   "outputs": [],
   "source": [
    "all_words = [description.split() for description in all_descriptions]\n",
    "all_words = [word.lower() for sublist in all_words for word in sublist]"
   ]
  },
  {
   "cell_type": "code",
   "execution_count": 13,
   "metadata": {
    "executionInfo": {
     "elapsed": 3,
     "status": "ok",
     "timestamp": 1658596228404,
     "user": {
      "displayName": "Eli Orland",
      "userId": "06741993258121341549"
     },
     "user_tz": 240
    },
    "id": "FO3YNGj-o7RG"
   },
   "outputs": [],
   "source": [
    "Counter = Counter(all_words)"
   ]
  },
  {
   "cell_type": "code",
   "execution_count": 14,
   "metadata": {
    "colab": {
     "base_uri": "https://localhost:8080/"
    },
    "executionInfo": {
     "elapsed": 174,
     "status": "ok",
     "timestamp": 1658596231674,
     "user": {
      "displayName": "Eli Orland",
      "userId": "06741993258121341549"
     },
     "user_tz": 240
    },
    "id": "-uFNf3yvpG6l",
    "outputId": "1c1f8345-0070-4aeb-a74b-4ce73dcf4086"
   },
   "outputs": [
    {
     "name": "stdout",
     "output_type": "stream",
     "text": [
      "{'the': 3336, 'a': 2061, 'and': 1754, 'to': 1633, 'of': 1316, 'for': 817, 'with': 785, 'is': 764, 'our': 723, 'in': 694, 'this': 667, 'it': 544, 'you': 477, 'as': 474, 'that': 455, 'we': 405, 'on': 391, 'your': 390, 'from': 330, 'but': 323, 'its': 294, 'an': 273, 'built': 245, 'some': 245, 'up': 235, 'all': 229, 'at': 226, 'be': 209, 'or': 204, 'shirt': 199, 'when': 199, 'so': 187, 'classic': 175, 'no': 175, 'jacket': 173, 'it’s': 172, 'out': 167, 'cotton': 167, 'we’ve': 163, 'organic': 158, 'just': 158, 'has': 157, 'new': 157, 'will': 155, 'take': 150, 'short': 149, 'like': 149, 'are': 130, 'signature': 130, 'long': 129, 'keep': 124, 'can': 121, 'perfect': 121, 'rugged': 116, 'features': 115, 'jack': 113, 'iteration': 111, 'construction': 109, 'by': 108, 'tailored': 108, 'heavy': 107, 'look': 99, 'pair': 98, 'sleeve': 98, 'cut': 97, 'time': 96, 'have': 95, '100%': 95, 'that’s': 95, 'one': 95, 'tee': 93, 'looks': 92, 'back': 89, 'get': 86, 'been': 86, 'over': 85, 'cozy': 85, 'while': 85, 'fit': 84, 'not': 83, 'than': 83, 'enough': 82, 'more': 81, 'down': 81, 'every': 81, 'wear': 80, 'pockets': 79, 'button': 79, 'favorite': 78, 'made': 77, 'feel': 77, 'timeless': 75, 'years': 75, 'if': 73, 'even': 73, 'into': 72, 'summer': 72, 'first': 71, 'about': 71, 'what': 71, 'bag': 71, 'was': 70, 'california': 70, 'easy': 70, 'same': 70, 'soft': 70, 'style': 68, 'texture': 68, 'after': 68, 'matter': 67, 'make': 67, 'silhouette': 66, 'wash': 66, 'piece': 65, 'day': 64, 'good': 63, 'vintage': 63, 'designed': 63, 'without': 63, 'denim': 62, 'front': 62, 'you’ll': 62, 'these': 62, 'pant': 61, 'you’re': 60, 'right': 60, 'handsome': 60, 'better': 59, \"it's\": 59, 'sturdy': 59, 'we’re': 58, 'design': 58, 'may': 58, 'garment': 58, 'those': 57, 'come': 57, 'brand': 56, 'versatile': 56, 'fresh': 56, 'rugged,': 56, 'collar': 55, 'through': 54, 'their': 54, 'got': 54, 'which': 54, 'comfort': 53, 'comes': 53, 'whether': 52, 'only': 52, 'always': 52, 'extra': 52, 'natural': 52, 'things': 51, 'blend': 51, 'soft,': 50, 'work': 50, 'top': 50, 'everyday': 49, 'construction,': 49, 'well': 49, 'edition': 48, 'two': 48, 'how': 48, 'comfortable': 48, 'ykk': 48, 'off': 47, 'best': 47, 'great': 47, 'sure': 47, 'very': 46, 'camp': 46, 'fit,': 46, 'they': 46, 'any': 45, 'ready': 45, 'lightweight': 45, 'next': 44, 'true': 44, 'thanks': 44, 'haul.': 44, 'selvage': 44, 'few': 44, 'each': 43, 'custom': 43, 'collar,': 43, 'jeans': 43, 'colorway': 43, 'come.': 43, 'don’t': 43, 'finish': 43, 'ts': 42, 'chest': 42, 'weather': 42, 'après': 42, 'means': 42, 'finished': 42, 'us': 41, 'most': 41, 'it.': 41, 'indigo': 40, 'never': 40, 'last': 40, 'way': 39, 'know': 39, 'makes': 39, 'go': 39, 'them': 39, 'wear.': 39, 'takes': 38, 'warm': 38, 'worn': 38, 'everything': 38, 'around': 38, 'because': 38, 'stitch': 37, 'hard': 37, 'you’ve': 37, 'visual': 37, 'casual': 37, 'ultra': 37, \"we've\": 37, 'pockets,': 36, 'let': 36, 'details': 36, 'responsibly': 36, 'western': 36, 'haul': 36, 'oxford': 36, 'materials': 35, 'staple': 35, 'it’ll': 35, 'touch': 35, 'season': 35, 'given': 35, 'hand': 34, 'need': 34, 'responsible': 34, 'modern': 34, 'added': 34, 'shirt.': 34, 'double': 34, 'serve': 33, 'hem': 33, 'latest': 33, 'old': 33, 'tidy': 33, 'us,': 33, 'hawthorne': 33, 'patch': 32, 'meticulous': 32, 'set': 32, 'layer': 32, \"don't\": 32, 'give': 32, 'sweater': 32, \"you're\": 32, 'recycled': 31, 'years,': 31, 'character': 31, 'wool': 31, 'featuring': 30, 'do': 30, 'build': 30, 'offers': 30, 'there’s': 30, 'that’ll': 30, 'dress': 30, 'become': 30, 'buttons': 30, 'ojai': 30, 'awesome': 30, 'should': 30, 'both': 30, 'linen': 30, 'go-to': 29, 'peerless': 29, 'home': 29, 'pocket': 29, 'inspired': 29, 'who': 29, 'navy': 29, 'took': 29, 'thorough': 29, 'now': 29, 'solid': 29, 'cool': 29, 'developed': 28, 'classic,': 28, 'stand': 28, 'there': 28, 'striking': 28, 'think': 28, 'step': 28, 'lining': 28, 'outfitted': 28, 'roster.': 28, 'down.': 27, 'taylor': 27, 'gear': 27, '(including': 27, 'bring': 27, 'ribbing': 27, 'why': 27, 'rest': 27, 'night': 27, 'up.': 27, 'waffle': 27, 'knit': 27, 'sharp': 27, 'ideal': 27, 'something': 26, 'formula': 26, 'along': 26, 'love': 26, 'plaid': 26, 'many': 26, 'gets': 26, 'handy': 26, 'shorts': 26, 'merino': 26, 'wardrobe': 26, 'burly': 25, 'leather': 25, 'looking': 25, 'sharp,': 25, 'between': 25, 'they’re': 25, 'find': 25, 'coat': 25, 'limited': 24, 'ton': 24, 'version': 24, 'roster': 24, 'run': 24, 'were': 24, 'expect': 24, 'herringbone': 24, 'finish.': 24, 'anything': 24, 'traditional': 24, 'rotation.': 24, 'blue': 24, 'original': 24, 'waxed': 24, 'cold': 24, \"won't\": 24, 'utility': 24, 'bomber': 24, 'much': 24, 'big': 23, 'hemp': 23, 'moto': 23, 'including': 23, 'single': 23, 'woolen': 23, 'style.': 23, 'shirting': 23, 'unique': 23, 'add': 23, 'shirt,': 23, 'layering': 23, 'full': 23, 'remains': 23, 'print': 23, 'slim': 23, 'beautiful': 23, 'quality': 22, 'buttons,': 22, 'see': 22, 'wearing': 22, 'clean': 22, 'light': 22, 'day,': 22, 'subtle': 22, 'put': 22, 'ever': 22, 'days': 22, 'own': 22, 'workwear': 22, 'taken': 22, 'beefed': 22, 'functional': 22, 'boasts': 22, 'hardware': 22, 'weight': 22, 'double-needle': 22, 'collaboration': 21, 'keeping': 21, 'jacket,': 21, 'dark': 21, 'goes': 21, 'life': 21, 'durability': 21, \"we're\": 21, 'felled': 21, 'bit': 21, 'using': 21, 'daily': 21, 'equipped': 21, 'stress': 21, 'won’t': 21, 'down,': 21, 'elevated': 21, 'styling': 21, 'map': 21, 'detailing': 21, 'year': 21, 'had': 21, 'constructed': 21, 'making': 20, 'lot': 20, 'here': 20, 'essential': 20, 'start': 20, 'name,': 20, 'core': 20, 'serious': 20, 'real': 20, 'little': 20, 'heavyweight': 20, 'away': 20, 'other': 20, 'hoodie': 20, 'before': 20, 'beat': 20, 'yet': 20, 'fabric': 20, 'stay': 20, 'part': 19, 'complete': 19, 'want': 19, 'under': 19, 'might': 19, '(and': 19, 'elements': 19, 'sleeves': 19, 'rich': 19, 'pants': 19, 'count': 19, 'boss': 19, 'surprise': 19, 'lived-in': 19, 'comfortable,': 19, 'still': 19, 'stripe': 19, 'help': 18, 'create': 18, 'look,': 18, 'washed': 18, 'silhouette.': 18, \"that's\": 18, 'slub': 18, 'once': 18, 'day.': 18, 'materials,': 18, 'duck': 18, 'develop': 18, 'brass': 18, 'killer': 18, 'throw': 18, 'telegraph': 18, 'simple': 17, 'horn': 17, 'companion': 17, 'heavy-duty': 17, 'world': 17, 'town.': 17, 'hold': 17, 'long.': 17, 'button-down': 17, 'ledge': 17, 'look.': 17, 'canvas': 17, 'side,': 17, 'slide': 17, 'softer': 17, 'in.': 17, 'dye': 17, 'survive': 17, 'military': 17, 'chore': 17, 'weave': 17, 'option': 17, 'shorter': 17, 'jacket.': 17, 'gorgeous': 17, 'available': 16, 'iconic': 16, 'boot': 16, 'warmer': 16, 'distinctive': 16, 'textured': 16, 'going': 16, 'incredible': 16, 'sophisticated': 16, 'storm': 16, \"you'll\": 16, 'incredibly': 16, 'really': 16, 'side': 16, 'time.': 16, 'name': 16, 'getting': 16, 'length': 16, 'trail': 16, 'vintage-inspired': 16, 'eye-catching': 16, 'feels': 16, 'french': 16, 'snazzy': 16, 'workhorse': 16, 'gentler': 16, 'round': 16, 'tailoring': 16, 'it,': 16, 'jeans,': 16, 'comfort,': 16, 'morse': 16, 'jack,': 16, 'turn': 16, 'healthy': 16, 'open': 15, 'taking': 15, 'winter': 15, 'adds': 15, 'trucker': 15, 'jackets': 15, 'grab': 15, 'far': 15, 'since': 15, 'sturdy,': 15, 'sophistication': 15, 'refined': 15, 'also': 15, 'dressed': 15, 'use': 15, 'outerwear': 15, 'dry': 15, 'until': 15, 'line': 15, 'fillmore': 15, 'range': 15, 'haul,': 15, 'beautifully': 15, 'own.': 15, 'polo': 15, 'versatility,': 15, 'legendary': 15, 'fit.': 15, 'season.': 15, 'welt': 15, 'trusty': 15, 'woven': 15, 'field': 14, 'american': 14, 'golden': 14, 'pieces': 14, 'then': 14, 'can’t': 14, 'worth': 14, 'selection': 14, 'crewneck': 14, 'slew': 14, 'despite': 14, 'brushed': 14, 'end': 14, 'where': 14, 'button-through': 14, 'back.': 14, 'doesn’t': 14, 'material': 14, 'keeps': 14, 'ocean': 14, 'perfected': 14, 'eye': 14, 'breathable': 14, 'cuffs': 14, 'ever.': 14, 'slash': 14, 'antique': 14, 'reinforced': 14, 'thing': 14, 'they’ll': 14, 'standard': 14, 'being': 14, 'easy-going': 14, 'box.': 14, 'roughest': 14, 'buddies': 13, 'road': 13, 'inspiration': 13, 'utility-focused': 13, 'doing': 13, 'beach': 13, 'sand': 13, 'familiar': 13, 'color': 13, 'call': 13, 'texture.': 13, 'lends': 13, 'understated': 13, 'you.': 13, 'else': 13, 'vest': 13, 'job': 13, 'iteration,': 13, 'flat': 13, 'texture,': 13, 'choose': 13, 'history': 13, 'wardrobe.': 13, 'construction.': 13, 'decade-old': 13, 'democratic': 13, 'breaking': 13, 'earned': 13, 'perfectly': 13, '(meant': 13, 'created': 13, 'halley': 13, 'wild': 13, 'offer': 13, 'laid': 13, 'does': 13, 'endless': 13, 'giving': 13, 'rotation': 13, 'breezy,': 13, 'modern,': 12, 'four': 12, 'design,': 12, 'wide': 12, 'sports': 12, 'commitment': 12, 'responsibility,': 12, 'one-of-a-kind': 12, '(like': 12, 'needle': 12, 'around,': 12, 'heads': 12, 'reach': 12, 'comfy': 12, 'outlast': 12, 'team': 12, 'sweater,': 12, 'slanted': 12, 'opted': 12, 'jeans.': 12, 'suit': 12, 'hem,': 12, 'season,': 12, 'feel.': 12, 'craftsmanship': 12, 'cut,': 12, 'zipper': 12, 'vertical': 12, 'air': 12, 'array': 12, 'sf': 12, 'comfort.': 12, 'versatility': 12, 'time,': 12, 'classic.': 12, 'tough': 12, 'indispensable': 12, 'years.': 12, 'cotton,': 12, 'nylon': 12, 'easygoing': 12, 'jean': 12, 'break': 12, 'wherever': 12, 'jacquard': 12, 'leave': 12, 'point': 12, 'would': 12, 'cotton.': 12, 'durability,': 12, 'came': 12, \"doesn't\": 12, 'gives': 12, 'charcoal': 12, 'well,': 12, 'summer,': 12, 'dose': 12, 'oxford,': 12, 'unwavering': 12, 'stylish': 12, 'retro': 12, 'blanket': 11, 'bear': 11, 'two-way': 11, 'expertly': 11, 'isn’t': 11, 'clean,': 11, 'pretty': 11, 'here,': 11, 'lounge': 11, 'versatile,': 11, 'tucked': 11, 'reason': 11, 'winning': 11, 'fans': 11, 'carry': 11, 'further': 11, 'sheffield': 11, \"there's\": 11, 'pick': 11, 'pocketing': 11, 'bar-tack': 11, 'shell': 11, 'suite': 11, 'covered': 11, 'upon': 11, 'shop': 11, 'neck': 11, 'wool,': 11, 'tees': 11, 'henley': 11, 'found': 11, 'above': 11, 'bar-tacked': 11, 'enter': 11, 'against': 11, 'you,': 11, 'office': 11, 'wash.': 11, 'chill': 11, 'key': 11, 'jack.': 11, 'equal': 11, 'ensure': 11, 'truly': 11, 'hardware,': 11, 'another': 11, 'shirts': 11, 'tee,': 11, 'trouser': 11, 'said,': 11, 'matching': 11, 'pays': 11, 'buttery': 11, 'ensures': 11, 'stitching': 11, 'resilient': 11, 'trip': 11, 'silhouette,': 11, 'attention': 11, 'meet': 11, 'japanese': 11, 'stitched': 11, 'deep': 11, 'surf': 11, 'vibes': 11, 'standards': 11, 'black': 10, 'sporting': 10, 'tee.': 10, 'old-school': 10, 'refined,': 10, 'fade': 10, 'pleatless': 10, 'months': 10, 'hands': 10, 'saying': 10, \"you've\": 10, 'high': 10, 'result': 10, 'reliable': 10, 'turning': 10, 'gear,': 10, 'teamed': 10, 'too.': 10, 'among': 10, 'weekend': 10, 'game': 10, 'across': 10, 'handsome,': 10, 'remain': 10, 'ring-back': 10, 'especially': 10, 'pairs': 10, 'store': 10, 'water': 10, 'seasonal': 10, 'spin': 10, 'during': 10, 'average': 10, 'suede': 10, 'fan-favorite': 10, 'afraid': 10, 'interior': 10, 'timeless,': 10, 'yosemite': 10, 'cozy,': 10, 'six': 10, 'genuine': 10, 'live': 10, 'beyond': 10, 'pen': 10, 'white': 10, 'bold': 10, 'we’ll': 10, 'heft': 10, 'san': 10, 'deadstock': 10, 'chambray': 10, 'hand,': 10, 'newest': 10, 'yarns': 10, 'leeward': 10, \"heavyweight's\": 10, 'nights.': 10, 'appeal,': 10, 'fleece': 10, 'rendered': 10, 'started': 10, 'slim-fitting': 10, 'engineered': 10, 'date': 10, 'mainstay': 10, 'placket': 10, 'chinos': 10, 'out,': 9, 'wind': 9, 'care': 9, 'rust': 9, 'corduroy': 9, 'lower': 9, 'fall': 9, 'lost': 9, 'colorways': 9, 'exception.': 9, 'substantial': 9, 'in,': 9, 'occasion.': 9, '&': 9, 'finish,': 9, 'early': 9, 'lines': 9, 'blazer': 9, 'brings': 9, 'twill': 9, 'exceptionally': 9, 'mind.': 9, 'ever,': 9, '‘em': 9, 'special': 9, 'meticulously': 9, 'yourself': 9, 'what’s': 9, 'luxurious': 9, 'amazing': 9, 'oversized': 9, 'boots': 9, 'sometimes': 9, 'whatever': 9, 'closet.': 9, 'espresso': 9, 'balance': 9, 'detailing,': 9, 'roomy': 9, 'too': 9, 'upcycled': 9, 'quite': 9, 'chunky': 9, 'days.': 9, 'kind': 9, 'lend': 9, 'prefer': 9, 'form': 9, 'options': 9, 'forward': 9, 'recipe': 9, 'offering': 9, 'apart': 9, 'anchor': 9, 'dog': 9, 'pockets.': 9, 'embroidered': 9, 'fun,': 9, 'second': 9, 'effortless': 9, 'left': 9, 'adventure': 9, 'occasions': 9, 'back,': 9, 'way.': 9, 'simplest': 9, 'up,': 9, 'hit': 9, 'three': 9, 'though': 9, 'tapered': 9, 'pocket,': 9, 'room': 9, 'fixture': 9, 'bells': 9, 'spring': 9, 'try': 9, 'hope': 9, 'nice': 9, 'sheepskin': 9, 'olive': 9, 'wave': 9, 'mid-weight': 9, 'twice': 9, 'guarantee': 9, 'detail': 9, 'held': 9, 'culture': 9, 'open),': 9, 'antidote': 9, 'sweltering': 9, 'wingman': 9, 'plus': 8, 'artwork': 8, 'people': 8, 'tribute': 8, 'out.': 8, 'decades': 8, 'reimagining': 8, 'mean': 8, 'head': 8, 'environment': 8, 'cornerstone': 8, 'absolutely': 8, 'outfit.': 8, 'foundation': 8, 'wear,': 8, 'straightforward': 8, 'trousers': 8, 'own,': 8, 'answer': 8, 'family': 8, 'nuance': 8, 'calls': 8, 'overshirt': 8, 'beating': 8, 'lightweight,': 8, 'dusty': 8, 'crowd': 8, 'heavier': 8, 'gear.': 8, 'lined': 8, 'brought': 8, 'store,': 8, \"they'll\": 8, 'boasting': 8, 'cuffs,': 8, 'elegant': 8, 'happy': 8, 'low-profile': 8, 'push': 8, 'addition': 8, 'collar.': 8, 'stunning': 8, '(or': 8, 'unbelievably': 8, 'steam': 8, 'impact': 8, 'move': 8, 'easily': 8, 'materials.': 8, 'style,': 8, 'fantastic': 8, 'year.': 8, 'spirit': 8, 'points': 8, 'strong': 8, 'staples': 8, 'says': 8, 'celebration': 8, 'fine': 8, 'hang': 8, 'stretch': 8, 'protection': 8, 'we’d': 8, 'exceptional': 8, 'athletic': 8, 'colorway,': 8, 'spare.': 8, 'details,': 8, 'stripes': 8, 'worked': 8, 'fabric,': 8, 'gap': 8, 'that,': 8, 'ribbed': 8, 'packed': 8, 'itself': 8, 'contrast': 8, 'paint': 8, 'rounded': 8, 'products': 8, 'dive': 8, 'whistles': 8, 'lighter': 8, '10-oz': 8, 'product': 8}\n"
     ]
    }
   ],
   "source": [
    "most_common = dict(Counter.most_common(1000))\n",
    "  \n",
    "print(most_common)"
   ]
  },
  {
   "cell_type": "code",
   "execution_count": 15,
   "metadata": {
    "executionInfo": {
     "elapsed": 5,
     "status": "ok",
     "timestamp": 1658596231840,
     "user": {
      "displayName": "Eli Orland",
      "userId": "06741993258121341549"
     },
     "user_tz": 240
    },
    "id": "iUA608snp5In"
   },
   "outputs": [],
   "source": [
    "word_stats = pd.DataFrame.from_dict(most_common,'index')"
   ]
  },
  {
   "cell_type": "code",
   "execution_count": 25,
   "metadata": {
    "colab": {
     "base_uri": "https://localhost:8080/"
    },
    "executionInfo": {
     "elapsed": 150,
     "status": "ok",
     "timestamp": 1658596338320,
     "user": {
      "displayName": "Eli Orland",
      "userId": "06741993258121341549"
     },
     "user_tz": 240
    },
    "id": "hlrbsgS8rBMe",
    "outputId": "89b90c1a-9fb6-4cb1-d96d-85126ac52b5f"
   },
   "outputs": [
    {
     "data": {
      "text/plain": [
       "0    75\n",
       "Name: timeless, dtype: int64"
      ]
     },
     "execution_count": 25,
     "metadata": {},
     "output_type": "execute_result"
    }
   ],
   "source": [
    "word_stats.loc['timeless']"
   ]
  },
  {
   "cell_type": "code",
   "execution_count": null,
   "metadata": {
    "id": "eI0_FRQgrCO8"
   },
   "outputs": [],
   "source": []
  }
 ],
 "metadata": {
  "colab": {
   "authorship_tag": "ABX9TyMzv5PUvBftAs1BXv5jJ8Wq",
   "collapsed_sections": [],
   "name": "update_text_file.ipynb",
   "provenance": []
  },
  "kernelspec": {
   "display_name": "Python 3 (ipykernel)",
   "language": "python",
   "name": "python3"
  },
  "language_info": {
   "codemirror_mode": {
    "name": "ipython",
    "version": 3
   },
   "file_extension": ".py",
   "mimetype": "text/x-python",
   "name": "python",
   "nbconvert_exporter": "python",
   "pygments_lexer": "ipython3",
   "version": "3.9.12"
  }
 },
 "nbformat": 4,
 "nbformat_minor": 1
}
